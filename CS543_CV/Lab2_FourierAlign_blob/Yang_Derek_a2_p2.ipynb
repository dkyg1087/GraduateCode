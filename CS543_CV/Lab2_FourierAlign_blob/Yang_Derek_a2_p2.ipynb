{
 "cells": [
  {
   "cell_type": "code",
   "execution_count": null,
   "metadata": {},
   "outputs": [],
   "source": [
    "import numpy as np\n",
    "import scipy \n",
    "import skimage\n",
    "import matplotlib.pyplot as plt\n",
    "import cv2"
   ]
  },
  {
   "cell_type": "code",
   "execution_count": null,
   "metadata": {},
   "outputs": [],
   "source": [
    "from matplotlib.patches import Circle\n",
    "def show_all_circles(image, cx, cy, sig, color='r'):\n",
    "    \"\"\"\n",
    "    image: numpy array, representing the grayscsale image\n",
    "    cx, cy: numpy arrays or lists, centers of the detected blobs\n",
    "    rad: numpy array or list, radius of the detected blobs\n",
    "    \"\"\"\n",
    "    fig, ax = plt.subplots()\n",
    "    ax.set_aspect('equal')\n",
    "    ax.imshow(image, cmap='gray')\n",
    "    for x, y, s in zip(cx, cy, sig):\n",
    "        circ = Circle((x, y), s*(2**0.5), color=color, fill=False)\n",
    "        ax.add_patch(circ)\n",
    "\n",
    "    plt.title('%i circles' % len(cx))\n",
    "    plt.show()"
   ]
  },
  {
   "cell_type": "code",
   "execution_count": null,
   "metadata": {},
   "outputs": [],
   "source": [
    "img_dir = \"data/\"\n",
    "img_list = [\"butterfly.jpg\",\"einstein.jpg\",\"sunflowers.jpg\",\"fishes.jpg\"]"
   ]
  },
  {
   "cell_type": "code",
   "execution_count": null,
   "metadata": {},
   "outputs": [],
   "source": [
    "for loc in img_list:\n",
    "    img = cv2.imread(img_dir+loc,cv2.IMREAD_GRAYSCALE)\n",
    "    img/= 255\n",
    "    "
   ]
  }
 ],
 "metadata": {
  "kernelspec": {
   "display_name": "Python 3.10.7 64-bit (microsoft store)",
   "language": "python",
   "name": "python3"
  },
  "language_info": {
   "name": "python",
   "version": "3.10.7"
  },
  "orig_nbformat": 4,
  "vscode": {
   "interpreter": {
    "hash": "793e1c3583c4c2649ad3fb639f030d9c116c6f8ff8b7683fb3d40af4e681ac4a"
   }
  }
 },
 "nbformat": 4,
 "nbformat_minor": 2
}
