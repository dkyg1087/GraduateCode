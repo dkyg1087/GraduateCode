{
  "nbformat": 4,
  "nbformat_minor": 0,
  "metadata": {
    "colab": {
      "provenance": []
    },
    "kernelspec": {
      "name": "python3",
      "display_name": "Python 3"
    },
    "language_info": {
      "name": "python"
    },
    "accelerator": "GPU",
    "gpuClass": "standard",
    "widgets": {
      "application/vnd.jupyter.widget-state+json": {
        "6feea18df5df4176bbc048b3985bd0d4": {
          "model_module": "@jupyter-widgets/controls",
          "model_name": "HBoxModel",
          "model_module_version": "1.5.0",
          "state": {
            "_dom_classes": [],
            "_model_module": "@jupyter-widgets/controls",
            "_model_module_version": "1.5.0",
            "_model_name": "HBoxModel",
            "_view_count": null,
            "_view_module": "@jupyter-widgets/controls",
            "_view_module_version": "1.5.0",
            "_view_name": "HBoxView",
            "box_style": "",
            "children": [
              "IPY_MODEL_d6b50c778c084812a03da00ef2fd2ecb",
              "IPY_MODEL_4e260405f0544c19a8906ae30c4ca3e9",
              "IPY_MODEL_aff68d03a2824957a48a068dd9386f8f"
            ],
            "layout": "IPY_MODEL_0567fc6a1d2c4a8bbc655dfe4934150e"
          }
        },
        "d6b50c778c084812a03da00ef2fd2ecb": {
          "model_module": "@jupyter-widgets/controls",
          "model_name": "HTMLModel",
          "model_module_version": "1.5.0",
          "state": {
            "_dom_classes": [],
            "_model_module": "@jupyter-widgets/controls",
            "_model_module_version": "1.5.0",
            "_model_name": "HTMLModel",
            "_view_count": null,
            "_view_module": "@jupyter-widgets/controls",
            "_view_module_version": "1.5.0",
            "_view_name": "HTMLView",
            "description": "",
            "description_tooltip": null,
            "layout": "IPY_MODEL_c0debd07f8f14cc0aaf8fa395e421cf3",
            "placeholder": "​",
            "style": "IPY_MODEL_a01e674a26454ae496a05b5000f75197",
            "value": "Downloading model.safetensors: 100%"
          }
        },
        "4e260405f0544c19a8906ae30c4ca3e9": {
          "model_module": "@jupyter-widgets/controls",
          "model_name": "FloatProgressModel",
          "model_module_version": "1.5.0",
          "state": {
            "_dom_classes": [],
            "_model_module": "@jupyter-widgets/controls",
            "_model_module_version": "1.5.0",
            "_model_name": "FloatProgressModel",
            "_view_count": null,
            "_view_module": "@jupyter-widgets/controls",
            "_view_module_version": "1.5.0",
            "_view_name": "ProgressView",
            "bar_style": "success",
            "description": "",
            "description_tooltip": null,
            "layout": "IPY_MODEL_6469a27e40e84df0a2f66daf6e32607a",
            "max": 787742820,
            "min": 0,
            "orientation": "horizontal",
            "style": "IPY_MODEL_e667774e9f9e45b8b14db9fc00f7515f",
            "value": 787742820
          }
        },
        "aff68d03a2824957a48a068dd9386f8f": {
          "model_module": "@jupyter-widgets/controls",
          "model_name": "HTMLModel",
          "model_module_version": "1.5.0",
          "state": {
            "_dom_classes": [],
            "_model_module": "@jupyter-widgets/controls",
            "_model_module_version": "1.5.0",
            "_model_name": "HTMLModel",
            "_view_count": null,
            "_view_module": "@jupyter-widgets/controls",
            "_view_module_version": "1.5.0",
            "_view_name": "HTMLView",
            "description": "",
            "description_tooltip": null,
            "layout": "IPY_MODEL_896a9ebad96e4bd795297e85a1493e8c",
            "placeholder": "​",
            "style": "IPY_MODEL_47c7a8e1d9c748ee89407df25d12b6a1",
            "value": " 788M/788M [00:03&lt;00:00, 258MB/s]"
          }
        },
        "0567fc6a1d2c4a8bbc655dfe4934150e": {
          "model_module": "@jupyter-widgets/base",
          "model_name": "LayoutModel",
          "model_module_version": "1.2.0",
          "state": {
            "_model_module": "@jupyter-widgets/base",
            "_model_module_version": "1.2.0",
            "_model_name": "LayoutModel",
            "_view_count": null,
            "_view_module": "@jupyter-widgets/base",
            "_view_module_version": "1.2.0",
            "_view_name": "LayoutView",
            "align_content": null,
            "align_items": null,
            "align_self": null,
            "border": null,
            "bottom": null,
            "display": null,
            "flex": null,
            "flex_flow": null,
            "grid_area": null,
            "grid_auto_columns": null,
            "grid_auto_flow": null,
            "grid_auto_rows": null,
            "grid_column": null,
            "grid_gap": null,
            "grid_row": null,
            "grid_template_areas": null,
            "grid_template_columns": null,
            "grid_template_rows": null,
            "height": null,
            "justify_content": null,
            "justify_items": null,
            "left": null,
            "margin": null,
            "max_height": null,
            "max_width": null,
            "min_height": null,
            "min_width": null,
            "object_fit": null,
            "object_position": null,
            "order": null,
            "overflow": null,
            "overflow_x": null,
            "overflow_y": null,
            "padding": null,
            "right": null,
            "top": null,
            "visibility": null,
            "width": null
          }
        },
        "c0debd07f8f14cc0aaf8fa395e421cf3": {
          "model_module": "@jupyter-widgets/base",
          "model_name": "LayoutModel",
          "model_module_version": "1.2.0",
          "state": {
            "_model_module": "@jupyter-widgets/base",
            "_model_module_version": "1.2.0",
            "_model_name": "LayoutModel",
            "_view_count": null,
            "_view_module": "@jupyter-widgets/base",
            "_view_module_version": "1.2.0",
            "_view_name": "LayoutView",
            "align_content": null,
            "align_items": null,
            "align_self": null,
            "border": null,
            "bottom": null,
            "display": null,
            "flex": null,
            "flex_flow": null,
            "grid_area": null,
            "grid_auto_columns": null,
            "grid_auto_flow": null,
            "grid_auto_rows": null,
            "grid_column": null,
            "grid_gap": null,
            "grid_row": null,
            "grid_template_areas": null,
            "grid_template_columns": null,
            "grid_template_rows": null,
            "height": null,
            "justify_content": null,
            "justify_items": null,
            "left": null,
            "margin": null,
            "max_height": null,
            "max_width": null,
            "min_height": null,
            "min_width": null,
            "object_fit": null,
            "object_position": null,
            "order": null,
            "overflow": null,
            "overflow_x": null,
            "overflow_y": null,
            "padding": null,
            "right": null,
            "top": null,
            "visibility": null,
            "width": null
          }
        },
        "a01e674a26454ae496a05b5000f75197": {
          "model_module": "@jupyter-widgets/controls",
          "model_name": "DescriptionStyleModel",
          "model_module_version": "1.5.0",
          "state": {
            "_model_module": "@jupyter-widgets/controls",
            "_model_module_version": "1.5.0",
            "_model_name": "DescriptionStyleModel",
            "_view_count": null,
            "_view_module": "@jupyter-widgets/base",
            "_view_module_version": "1.2.0",
            "_view_name": "StyleView",
            "description_width": ""
          }
        },
        "6469a27e40e84df0a2f66daf6e32607a": {
          "model_module": "@jupyter-widgets/base",
          "model_name": "LayoutModel",
          "model_module_version": "1.2.0",
          "state": {
            "_model_module": "@jupyter-widgets/base",
            "_model_module_version": "1.2.0",
            "_model_name": "LayoutModel",
            "_view_count": null,
            "_view_module": "@jupyter-widgets/base",
            "_view_module_version": "1.2.0",
            "_view_name": "LayoutView",
            "align_content": null,
            "align_items": null,
            "align_self": null,
            "border": null,
            "bottom": null,
            "display": null,
            "flex": null,
            "flex_flow": null,
            "grid_area": null,
            "grid_auto_columns": null,
            "grid_auto_flow": null,
            "grid_auto_rows": null,
            "grid_column": null,
            "grid_gap": null,
            "grid_row": null,
            "grid_template_areas": null,
            "grid_template_columns": null,
            "grid_template_rows": null,
            "height": null,
            "justify_content": null,
            "justify_items": null,
            "left": null,
            "margin": null,
            "max_height": null,
            "max_width": null,
            "min_height": null,
            "min_width": null,
            "object_fit": null,
            "object_position": null,
            "order": null,
            "overflow": null,
            "overflow_x": null,
            "overflow_y": null,
            "padding": null,
            "right": null,
            "top": null,
            "visibility": null,
            "width": null
          }
        },
        "e667774e9f9e45b8b14db9fc00f7515f": {
          "model_module": "@jupyter-widgets/controls",
          "model_name": "ProgressStyleModel",
          "model_module_version": "1.5.0",
          "state": {
            "_model_module": "@jupyter-widgets/controls",
            "_model_module_version": "1.5.0",
            "_model_name": "ProgressStyleModel",
            "_view_count": null,
            "_view_module": "@jupyter-widgets/base",
            "_view_module_version": "1.2.0",
            "_view_name": "StyleView",
            "bar_color": null,
            "description_width": ""
          }
        },
        "896a9ebad96e4bd795297e85a1493e8c": {
          "model_module": "@jupyter-widgets/base",
          "model_name": "LayoutModel",
          "model_module_version": "1.2.0",
          "state": {
            "_model_module": "@jupyter-widgets/base",
            "_model_module_version": "1.2.0",
            "_model_name": "LayoutModel",
            "_view_count": null,
            "_view_module": "@jupyter-widgets/base",
            "_view_module_version": "1.2.0",
            "_view_name": "LayoutView",
            "align_content": null,
            "align_items": null,
            "align_self": null,
            "border": null,
            "bottom": null,
            "display": null,
            "flex": null,
            "flex_flow": null,
            "grid_area": null,
            "grid_auto_columns": null,
            "grid_auto_flow": null,
            "grid_auto_rows": null,
            "grid_column": null,
            "grid_gap": null,
            "grid_row": null,
            "grid_template_areas": null,
            "grid_template_columns": null,
            "grid_template_rows": null,
            "height": null,
            "justify_content": null,
            "justify_items": null,
            "left": null,
            "margin": null,
            "max_height": null,
            "max_width": null,
            "min_height": null,
            "min_width": null,
            "object_fit": null,
            "object_position": null,
            "order": null,
            "overflow": null,
            "overflow_x": null,
            "overflow_y": null,
            "padding": null,
            "right": null,
            "top": null,
            "visibility": null,
            "width": null
          }
        },
        "47c7a8e1d9c748ee89407df25d12b6a1": {
          "model_module": "@jupyter-widgets/controls",
          "model_name": "DescriptionStyleModel",
          "model_module_version": "1.5.0",
          "state": {
            "_model_module": "@jupyter-widgets/controls",
            "_model_module_version": "1.5.0",
            "_model_name": "DescriptionStyleModel",
            "_view_count": null,
            "_view_module": "@jupyter-widgets/base",
            "_view_module_version": "1.2.0",
            "_view_name": "StyleView",
            "description_width": ""
          }
        }
      }
    }
  },
  "cells": [
    {
      "cell_type": "code",
      "source": [
        "from google.colab import drive\n",
        "drive.mount('/content/drive')"
      ],
      "metadata": {
        "colab": {
          "base_uri": "https://localhost:8080/"
        },
        "id": "A7HCYY-W6mq9",
        "outputId": "7881f43c-b126-4af5-bc4a-d92c796292c4"
      },
      "execution_count": null,
      "outputs": [
        {
          "output_type": "stream",
          "name": "stdout",
          "text": [
            "Drive already mounted at /content/drive; to attempt to forcibly remount, call drive.mount(\"/content/drive\", force_remount=True).\n"
          ]
        }
      ]
    },
    {
      "cell_type": "code",
      "source": [
        "#!pip install timm"
      ],
      "metadata": {
        "id": "M0SGIuV6lnQu"
      },
      "execution_count": null,
      "outputs": []
    },
    {
      "cell_type": "code",
      "execution_count": null,
      "metadata": {
        "id": "6FY9ZQUy57wP"
      },
      "outputs": [],
      "source": [
        "import os\n",
        "import numpy as np\n",
        "import pandas as pd\n",
        "\n",
        "import albumentations as A\n",
        "import cv2\n",
        "\n",
        "import torch\n",
        "import torch.nn as nn\n",
        "import torch.nn.functional as F\n",
        "import torchvision\n",
        "import torch.optim as optim\n",
        "\n",
        "from tqdm import tqdm\n",
        "from torch.utils.data import Dataset, DataLoader\n",
        "from albumentations.pytorch import ToTensorV2\n",
        "from torchvision.models import resnet18\n",
        "from torchvision.transforms import transforms\n",
        "\n",
        "from torchvision import models\n",
        "\n",
        "from sklearn.metrics import roc_auc_score\n",
        "from sklearn.model_selection import KFold, StratifiedKFold\n",
        "\n",
        "import plotly.express as px\n",
        "import plotly.graph_objects as go\n",
        "from plotly.subplots import make_subplots\n",
        "import timm\n",
        "import warnings  \n",
        "warnings.filterwarnings('ignore')\n"
      ]
    },
    {
      "cell_type": "code",
      "source": [
        "device = 'cuda' if torch.cuda.is_available() else 'cpu'\n",
        "device"
      ],
      "metadata": {
        "colab": {
          "base_uri": "https://localhost:8080/",
          "height": 35
        },
        "id": "q_6nCeo07Ras",
        "outputId": "6a088867-5acf-476b-e395-5976535738b6"
      },
      "execution_count": null,
      "outputs": [
        {
          "output_type": "execute_result",
          "data": {
            "text/plain": [
              "'cuda'"
            ],
            "application/vnd.google.colaboratory.intrinsic+json": {
              "type": "string"
            }
          },
          "metadata": {},
          "execution_count": 4
        }
      ]
    },
    {
      "cell_type": "code",
      "source": [
        "DIR_INPUT = '/content/drive/My Drive/CS444/Final'\n",
        "\n",
        "SEED = 66\n",
        "N_FOLDS = 2\n",
        "N_EPOCHS = 10\n",
        "BATCH_SIZE = 32\n",
        "SIZE = 512"
      ],
      "metadata": {
        "id": "O_JODaGl6BuM"
      },
      "execution_count": null,
      "outputs": []
    },
    {
      "cell_type": "code",
      "source": [
        "class PlantDataset(Dataset):\n",
        "    \n",
        "    def __init__(self, df, transforms=None):\n",
        "    \n",
        "        self.df = df\n",
        "        self.transforms=transforms\n",
        "        \n",
        "    def __len__(self):\n",
        "        return self.df.shape[0]\n",
        "    \n",
        "    def __getitem__(self, idx):\n",
        "        image_src = DIR_INPUT + '/images/' + self.df.loc[idx, 'image_id'] + '.jpg'\n",
        "        # print(image_src)\n",
        "        image = cv2.imread(image_src, cv2.IMREAD_COLOR)\n",
        "        image = cv2.cvtColor(image, cv2.COLOR_BGR2RGB)\n",
        "        labels = self.df.loc[idx, ['healthy', 'multiple_diseases', 'rust', 'scab']].values\n",
        "        labels = torch.from_numpy(labels.astype(np.int8))\n",
        "        labels = labels.unsqueeze(-1)\n",
        "        \n",
        "        if self.transforms:\n",
        "            transformed = self.transforms(image=image)\n",
        "            image = transformed['image']\n",
        "\n",
        "        return image, labels"
      ],
      "metadata": {
        "id": "AtLd3rCw6D_8"
      },
      "execution_count": null,
      "outputs": []
    },
    {
      "cell_type": "code",
      "source": [
        "\n",
        "transforms_train = A.Compose([\n",
        "    A.Resize(224, 224),\n",
        "    A.HorizontalFlip(p=0.5),\n",
        "    A.VerticalFlip(p=0.5),\n",
        "    A.Normalize(mean=[0.485, 0.456, 0.406], std=[0.229, 0.224, 0.225]),\n",
        "    A.pytorch.transforms.ToTensorV2()\n",
        "])\n",
        "\n",
        "transforms_valid = A.Compose([\n",
        "    A.Resize(224, 224),\n",
        "    A.Normalize(mean=[0.485, 0.456, 0.406], std=[0.229, 0.224, 0.225]),\n",
        "    A.pytorch.transforms.ToTensorV2()\n",
        "])\n",
        "\n"
      ],
      "metadata": {
        "id": "De1cavBz6KrD"
      },
      "execution_count": null,
      "outputs": []
    },
    {
      "cell_type": "code",
      "source": [
        "submission_df = pd.read_csv(DIR_INPUT + '/sample_submission.csv')\n",
        "submission_df.iloc[:, 1:] = 0\n",
        "\n",
        "submission_df.head()"
      ],
      "metadata": {
        "colab": {
          "base_uri": "https://localhost:8080/",
          "height": 206
        },
        "id": "8NpM_ITg6M1_",
        "outputId": "875718bd-894c-4c41-9871-6eaea719ad5a"
      },
      "execution_count": null,
      "outputs": [
        {
          "output_type": "execute_result",
          "data": {
            "text/plain": [
              "  image_id  healthy  multiple_diseases  rust  scab\n",
              "0   Test_0        0                  0     0     0\n",
              "1   Test_1        0                  0     0     0\n",
              "2   Test_2        0                  0     0     0\n",
              "3   Test_3        0                  0     0     0\n",
              "4   Test_4        0                  0     0     0"
            ],
            "text/html": [
              "\n",
              "  <div id=\"df-d938c302-7419-40a8-a261-d2c4341dddd7\">\n",
              "    <div class=\"colab-df-container\">\n",
              "      <div>\n",
              "<style scoped>\n",
              "    .dataframe tbody tr th:only-of-type {\n",
              "        vertical-align: middle;\n",
              "    }\n",
              "\n",
              "    .dataframe tbody tr th {\n",
              "        vertical-align: top;\n",
              "    }\n",
              "\n",
              "    .dataframe thead th {\n",
              "        text-align: right;\n",
              "    }\n",
              "</style>\n",
              "<table border=\"1\" class=\"dataframe\">\n",
              "  <thead>\n",
              "    <tr style=\"text-align: right;\">\n",
              "      <th></th>\n",
              "      <th>image_id</th>\n",
              "      <th>healthy</th>\n",
              "      <th>multiple_diseases</th>\n",
              "      <th>rust</th>\n",
              "      <th>scab</th>\n",
              "    </tr>\n",
              "  </thead>\n",
              "  <tbody>\n",
              "    <tr>\n",
              "      <th>0</th>\n",
              "      <td>Test_0</td>\n",
              "      <td>0</td>\n",
              "      <td>0</td>\n",
              "      <td>0</td>\n",
              "      <td>0</td>\n",
              "    </tr>\n",
              "    <tr>\n",
              "      <th>1</th>\n",
              "      <td>Test_1</td>\n",
              "      <td>0</td>\n",
              "      <td>0</td>\n",
              "      <td>0</td>\n",
              "      <td>0</td>\n",
              "    </tr>\n",
              "    <tr>\n",
              "      <th>2</th>\n",
              "      <td>Test_2</td>\n",
              "      <td>0</td>\n",
              "      <td>0</td>\n",
              "      <td>0</td>\n",
              "      <td>0</td>\n",
              "    </tr>\n",
              "    <tr>\n",
              "      <th>3</th>\n",
              "      <td>Test_3</td>\n",
              "      <td>0</td>\n",
              "      <td>0</td>\n",
              "      <td>0</td>\n",
              "      <td>0</td>\n",
              "    </tr>\n",
              "    <tr>\n",
              "      <th>4</th>\n",
              "      <td>Test_4</td>\n",
              "      <td>0</td>\n",
              "      <td>0</td>\n",
              "      <td>0</td>\n",
              "      <td>0</td>\n",
              "    </tr>\n",
              "  </tbody>\n",
              "</table>\n",
              "</div>\n",
              "      <button class=\"colab-df-convert\" onclick=\"convertToInteractive('df-d938c302-7419-40a8-a261-d2c4341dddd7')\"\n",
              "              title=\"Convert this dataframe to an interactive table.\"\n",
              "              style=\"display:none;\">\n",
              "        \n",
              "  <svg xmlns=\"http://www.w3.org/2000/svg\" height=\"24px\"viewBox=\"0 0 24 24\"\n",
              "       width=\"24px\">\n",
              "    <path d=\"M0 0h24v24H0V0z\" fill=\"none\"/>\n",
              "    <path d=\"M18.56 5.44l.94 2.06.94-2.06 2.06-.94-2.06-.94-.94-2.06-.94 2.06-2.06.94zm-11 1L8.5 8.5l.94-2.06 2.06-.94-2.06-.94L8.5 2.5l-.94 2.06-2.06.94zm10 10l.94 2.06.94-2.06 2.06-.94-2.06-.94-.94-2.06-.94 2.06-2.06.94z\"/><path d=\"M17.41 7.96l-1.37-1.37c-.4-.4-.92-.59-1.43-.59-.52 0-1.04.2-1.43.59L10.3 9.45l-7.72 7.72c-.78.78-.78 2.05 0 2.83L4 21.41c.39.39.9.59 1.41.59.51 0 1.02-.2 1.41-.59l7.78-7.78 2.81-2.81c.8-.78.8-2.07 0-2.86zM5.41 20L4 18.59l7.72-7.72 1.47 1.35L5.41 20z\"/>\n",
              "  </svg>\n",
              "      </button>\n",
              "      \n",
              "  <style>\n",
              "    .colab-df-container {\n",
              "      display:flex;\n",
              "      flex-wrap:wrap;\n",
              "      gap: 12px;\n",
              "    }\n",
              "\n",
              "    .colab-df-convert {\n",
              "      background-color: #E8F0FE;\n",
              "      border: none;\n",
              "      border-radius: 50%;\n",
              "      cursor: pointer;\n",
              "      display: none;\n",
              "      fill: #1967D2;\n",
              "      height: 32px;\n",
              "      padding: 0 0 0 0;\n",
              "      width: 32px;\n",
              "    }\n",
              "\n",
              "    .colab-df-convert:hover {\n",
              "      background-color: #E2EBFA;\n",
              "      box-shadow: 0px 1px 2px rgba(60, 64, 67, 0.3), 0px 1px 3px 1px rgba(60, 64, 67, 0.15);\n",
              "      fill: #174EA6;\n",
              "    }\n",
              "\n",
              "    [theme=dark] .colab-df-convert {\n",
              "      background-color: #3B4455;\n",
              "      fill: #D2E3FC;\n",
              "    }\n",
              "\n",
              "    [theme=dark] .colab-df-convert:hover {\n",
              "      background-color: #434B5C;\n",
              "      box-shadow: 0px 1px 3px 1px rgba(0, 0, 0, 0.15);\n",
              "      filter: drop-shadow(0px 1px 2px rgba(0, 0, 0, 0.3));\n",
              "      fill: #FFFFFF;\n",
              "    }\n",
              "  </style>\n",
              "\n",
              "      <script>\n",
              "        const buttonEl =\n",
              "          document.querySelector('#df-d938c302-7419-40a8-a261-d2c4341dddd7 button.colab-df-convert');\n",
              "        buttonEl.style.display =\n",
              "          google.colab.kernel.accessAllowed ? 'block' : 'none';\n",
              "\n",
              "        async function convertToInteractive(key) {\n",
              "          const element = document.querySelector('#df-d938c302-7419-40a8-a261-d2c4341dddd7');\n",
              "          const dataTable =\n",
              "            await google.colab.kernel.invokeFunction('convertToInteractive',\n",
              "                                                     [key], {});\n",
              "          if (!dataTable) return;\n",
              "\n",
              "          const docLinkHtml = 'Like what you see? Visit the ' +\n",
              "            '<a target=\"_blank\" href=https://colab.research.google.com/notebooks/data_table.ipynb>data table notebook</a>'\n",
              "            + ' to learn more about interactive tables.';\n",
              "          element.innerHTML = '';\n",
              "          dataTable['output_type'] = 'display_data';\n",
              "          await google.colab.output.renderOutput(dataTable, element);\n",
              "          const docLink = document.createElement('div');\n",
              "          docLink.innerHTML = docLinkHtml;\n",
              "          element.appendChild(docLink);\n",
              "        }\n",
              "      </script>\n",
              "    </div>\n",
              "  </div>\n",
              "  "
            ]
          },
          "metadata": {},
          "execution_count": 8
        }
      ]
    },
    {
      "cell_type": "code",
      "source": [
        "dataset_test = PlantDataset(df=submission_df, transforms=transforms_valid)\n",
        "dataloader_test = DataLoader(dataset_test, batch_size=BATCH_SIZE, num_workers=4, shuffle=False)"
      ],
      "metadata": {
        "id": "X2jLJsl06OPp"
      },
      "execution_count": null,
      "outputs": []
    },
    {
      "cell_type": "code",
      "source": [
        "train_df = pd.read_csv(DIR_INPUT + '/train.csv')\n",
        "\n",
        "# For debugging.\n",
        "# train_df = train_df.sample(n=100)\n",
        "# train_df.reset_index(drop=True, inplace=True)\n",
        "\n",
        "train_labels = train_df.iloc[:, 1:].values\n",
        "\n",
        "# Need for the StratifiedKFold split\n",
        "train_y = train_labels[:, 2] + train_labels[:, 3] * 2 + train_labels[:, 1] * 3\n",
        "\n",
        "train_df.head()\n",
        "print(train_y)"
      ],
      "metadata": {
        "colab": {
          "base_uri": "https://localhost:8080/"
        },
        "id": "5StaOihE6QI3",
        "outputId": "f5d57028-408b-4ffb-9913-2fe4c8a97c81"
      },
      "execution_count": null,
      "outputs": [
        {
          "output_type": "stream",
          "name": "stdout",
          "text": [
            "[2 3 0 ... 0 1 2]\n"
          ]
        }
      ]
    },
    {
      "cell_type": "code",
      "source": [
        "folds = StratifiedKFold(n_splits=N_FOLDS, shuffle=True, random_state=SEED)\n",
        "oof_preds = np.zeros((train_df.shape[0], 4))"
      ],
      "metadata": {
        "id": "OEvJfyGI6S0-"
      },
      "execution_count": null,
      "outputs": []
    },
    {
      "cell_type": "code",
      "source": [
        "class myresnet(nn.Module):\n",
        "    def __init__(self, num_classes):\n",
        "        super(myresnet,self).__init__()\n",
        "        self.resnet18 = models.resnet18(pretrained=False)\n",
        "        self.features = nn.Sequential(*list(self.resnet18.children())[:-1])\n",
        "        self.fc1 = nn.Linear(512, 256)\n",
        "        self.bn1 = nn.BatchNorm1d(num_features=256)\n",
        "        self.fc2 = nn.Linear(256, 256)\n",
        "        self.bn2 = nn.BatchNorm1d(num_features=256)\n",
        "        self.output_fc = nn.Linear(256, 4)\n",
        "\n",
        "    def forward(self, x):\n",
        "        x = self.features(x)\n",
        "        x = x.view(x.size(0), -1)\n",
        "        x = self.bn1(self.fc1(x))\n",
        "        x = F.relu(x)\n",
        "        x = self.bn2(self.fc2(x))\n",
        "        x = F.relu(x)\n",
        "        y_pred = self.output_fc(x)\n",
        "        return y_pred"
      ],
      "metadata": {
        "id": "uwOUAIMA50l9"
      },
      "execution_count": null,
      "outputs": []
    },
    {
      "cell_type": "code",
      "source": [
        "class MLP(nn.Module):\n",
        "    def __init__(self):\n",
        "        super(MLP,self).__init__()\n",
        "        self.input_fc = nn.Linear(224*224*3, 256)\n",
        "        self.bn1 = nn.BatchNorm1d(num_features=256)\n",
        "        self.dropout = nn.Dropout(0.5)\n",
        "        self.hidden_fc1 = nn.Linear(256, 256)\n",
        "        self.bn2 = nn.BatchNorm1d(num_features=256)\n",
        "        self.output_fc = nn.Linear(256, 4)\n",
        "\n",
        "    def forward(self, x):\n",
        "        x = x.view(x.shape[0], -1)\n",
        "        x = self.dropout(self.bn1(self.input_fc(x)))\n",
        "        x = F.relu(x)\n",
        "        x = self.dropout(self.bn2(self.hidden_fc1(x)))\n",
        "        x = F.relu(x)\n",
        "        y_pred = self.output_fc(x)\n",
        "        return y_pred"
      ],
      "metadata": {
        "id": "oeLCmb-W52SZ"
      },
      "execution_count": null,
      "outputs": []
    },
    {
      "cell_type": "code",
      "source": [
        "class LeafModel(nn.Module):\n",
        "    def __init__(self, pretrained=False):\n",
        "        super().__init__()\n",
        "        self.model = timm.create_model(\"swin_large_patch4_window7_224\", pretrained=True, num_classes=4)\n",
        "        \n",
        "    def forward(self, image):\n",
        "        x = self.model(image)\n",
        "    \n",
        "        return x"
      ],
      "metadata": {
        "id": "XIyEI6pq3vT1"
      },
      "execution_count": null,
      "outputs": []
    },
    {
      "cell_type": "code",
      "source": [
        "class mymobilenet(nn.Module):\n",
        "    def __init__(self, num_classes):\n",
        "        super(mymobilenet, self).__init__()\n",
        "        self.mobilenet = models.mobilenet_v2(pretrained=True)\n",
        "        self.features = self.mobilenet.features\n",
        "        self.avgpool = nn.AdaptiveAvgPool2d(output_size=(1, 1))\n",
        "        self.fc1 = nn.Linear(self.mobilenet.last_channel, 256)\n",
        "        self.bn1 = nn.BatchNorm1d(num_features=256)\n",
        "        self.fc2 = nn.Linear(256, 256)\n",
        "        self.bn2 = nn.BatchNorm1d(num_features=256)\n",
        "        self.output_fc = nn.Linear(256, 4)\n",
        "        \n",
        "    def forward(self, x):\n",
        "        x = self.features(x)\n",
        "        x = self.avgpool(x)\n",
        "        x = torch.flatten(x, 1)\n",
        "        x = self.bn1(self.fc1(x))\n",
        "        x = F.relu(x)\n",
        "        x = self.bn2(self.fc2(x))\n",
        "        x = F.relu(x)\n",
        "        y_pred = self.output_fc(x)\n",
        "        return y_pred"
      ],
      "metadata": {
        "id": "oVCOA8Jh546r"
      },
      "execution_count": null,
      "outputs": []
    },
    {
      "cell_type": "code",
      "source": [
        "model = LeafModel()"
      ],
      "metadata": {
        "id": "jW8z3dU76Udh",
        "colab": {
          "base_uri": "https://localhost:8080/",
          "height": 49,
          "referenced_widgets": [
            "6feea18df5df4176bbc048b3985bd0d4",
            "d6b50c778c084812a03da00ef2fd2ecb",
            "4e260405f0544c19a8906ae30c4ca3e9",
            "aff68d03a2824957a48a068dd9386f8f",
            "0567fc6a1d2c4a8bbc655dfe4934150e",
            "c0debd07f8f14cc0aaf8fa395e421cf3",
            "a01e674a26454ae496a05b5000f75197",
            "6469a27e40e84df0a2f66daf6e32607a",
            "e667774e9f9e45b8b14db9fc00f7515f",
            "896a9ebad96e4bd795297e85a1493e8c",
            "47c7a8e1d9c748ee89407df25d12b6a1"
          ]
        },
        "outputId": "7c5b9226-e592-4662-fb7d-779d88b46dcc"
      },
      "execution_count": null,
      "outputs": [
        {
          "output_type": "display_data",
          "data": {
            "text/plain": [
              "Downloading model.safetensors:   0%|          | 0.00/788M [00:00<?, ?B/s]"
            ],
            "application/vnd.jupyter.widget-view+json": {
              "version_major": 2,
              "version_minor": 0,
              "model_id": "6feea18df5df4176bbc048b3985bd0d4"
            }
          },
          "metadata": {}
        }
      ]
    },
    {
      "cell_type": "code",
      "source": [
        "from IPython.core.display import Image\n",
        "def train_one_fold(i_fold, model, criterion, optimizer, dataloader_train, dataloader_valid):\n",
        "    \n",
        "    train_fold_results = []\n",
        "\n",
        "    for epoch in range(N_EPOCHS):\n",
        "\n",
        "        print('  Epoch {}/{}'.format(epoch + 1, N_EPOCHS))\n",
        "        # print('  ' + ('-' * 20))\n",
        "        #os.system(f'echo \\\"  Epoch {epoch}\\\"')\n",
        "\n",
        "        #print(f'echo \\\"  Epoch {epoch}\\\"')\n",
        "        model.train()\n",
        "        tr_loss = 0\n",
        "\n",
        "        for step, batch in tqdm(enumerate(dataloader_train)):\n",
        "\n",
        "            images = batch[0]\n",
        "            labels = batch[1]\n",
        "            #print(images.shape)\n",
        "            images = images.to(device, dtype=torch.float)\n",
        "            labels = labels.to(device, dtype=torch.float)\n",
        "            outputs = model(images)\n",
        "            loss = criterion(outputs, labels.squeeze(-1))                \n",
        "            loss.backward()\n",
        "\n",
        "            tr_loss += loss.item()\n",
        "\n",
        "            optimizer.step()\n",
        "            optimizer.zero_grad()\n",
        "\n",
        "        # Validate\n",
        "        model.eval()\n",
        "        val_loss = 0\n",
        "        val_preds = None\n",
        "        val_labels = None\n",
        "\n",
        "        for step, batch in enumerate(dataloader_valid):\n",
        "\n",
        "            images = batch[0]\n",
        "            labels = batch[1]\n",
        "\n",
        "            if val_labels is None:\n",
        "                val_labels = labels.clone().squeeze(-1)\n",
        "            else:\n",
        "                val_labels = torch.cat((val_labels, labels.squeeze(-1)), dim=0)\n",
        "\n",
        "            images = images.to(device, dtype=torch.float)\n",
        "            labels = labels.to(device, dtype=torch.float)\n",
        "\n",
        "            with torch.no_grad():\n",
        "                outputs = model(images)\n",
        "\n",
        "                loss = criterion(outputs, labels.squeeze(-1))\n",
        "                val_loss += loss.item()\n",
        "\n",
        "                preds = torch.softmax(outputs, dim=1).data.cpu()\n",
        "\n",
        "                if val_preds is None:\n",
        "                    val_preds = preds\n",
        "                else:\n",
        "                    val_preds = torch.cat((val_preds, preds), dim=0)\n",
        "\n",
        "\n",
        "        train_fold_results.append({\n",
        "            'fold': i_fold,\n",
        "            'epoch': epoch,\n",
        "            'train_loss': tr_loss / len(dataloader_train),\n",
        "            'valid_loss': val_loss / len(dataloader_valid),\n",
        "            'valid_score': roc_auc_score(val_labels, val_preds, average='macro'),\n",
        "        })\n",
        "        print(\"score : {}, train loss:{},valid loss:{}\".format(roc_auc_score(val_labels, val_preds, average='macro'),tr_loss / len(dataloader_train),val_loss / len(dataloader_valid)))\n",
        "\n",
        "    return val_preds, train_fold_results"
      ],
      "metadata": {
        "id": "sbBSM-lB6Yhg"
      },
      "execution_count": null,
      "outputs": []
    },
    {
      "cell_type": "code",
      "source": [
        "submissions = None\n",
        "train_results = []\n",
        "\n",
        "for i_fold, (train_idx, valid_idx) in enumerate(folds.split(train_df, train_y)):\n",
        "    print(\"Fold {}/{}\".format(i_fold + 1, N_FOLDS))\n",
        "    valid = train_df.iloc[valid_idx]\n",
        "    valid.reset_index(drop=True, inplace=True)\n",
        "\n",
        "    train = train_df.iloc[train_idx]\n",
        "    train.reset_index(drop=True, inplace=True)    \n",
        "\n",
        "    dataset_train = PlantDataset(df=train, transforms=transforms_train)\n",
        "    dataset_valid = PlantDataset(df=valid, transforms=transforms_valid)\n",
        "\n",
        "    dataloader_train = DataLoader(dataset_train, batch_size=BATCH_SIZE, num_workers=4, shuffle=True)\n",
        "    dataloader_valid = DataLoader(dataset_valid, batch_size=BATCH_SIZE, num_workers=4, shuffle=False)\n",
        "\n",
        "    device = torch.device(\"cuda:0\")\n",
        "  \n",
        "    model.to(device)\n",
        "\n",
        "    criterion = nn.CrossEntropyLoss()\n",
        "    plist = [{'params': model.parameters(), 'lr': 1e-4}]\n",
        "    optimizer = optim.Adam(plist, lr=1e-4)\n",
        "    \n",
        "    val_preds, train_fold_results = train_one_fold(i_fold, model, criterion, optimizer, dataloader_train, dataloader_valid)\n",
        "    oof_preds[valid_idx, :] = val_preds.numpy()\n",
        "    \n",
        "    train_results = train_results + train_fold_results\n",
        "\n",
        "    model.eval()\n",
        "    test_preds = None\n",
        "\n",
        "    for step, batch in enumerate(dataloader_test):\n",
        "\n",
        "        images = batch[0]\n",
        "        images = images.to(device, dtype=torch.float)\n",
        "\n",
        "        with torch.no_grad():\n",
        "            outputs = model(images)\n",
        "\n",
        "            if test_preds is None:\n",
        "                test_preds = outputs.data.cpu()\n",
        "            else:\n",
        "                test_preds = torch.cat((test_preds, outputs.data.cpu()), dim=0)\n",
        "    \n",
        "    \n",
        "    # Save predictions per fold\n",
        "    submission_df[['healthy', 'multiple_diseases', 'rust', 'scab']] = torch.softmax(test_preds, dim=1)\n",
        "    submission_df.to_csv('submission_fold_{}.csv'.format(i_fold), index=False)\n",
        "\n",
        "    # logits avg\n",
        "    if submissions is None:\n",
        "        submissions = test_preds / N_FOLDS\n",
        "    else:\n",
        "        submissions += test_preds / N_FOLDS\n",
        "\n",
        "print(\"2-Folds CV score: {:.4f}\".format(roc_auc_score(train_labels, oof_preds, average='macro')))"
      ],
      "metadata": {
        "colab": {
          "base_uri": "https://localhost:8080/"
        },
        "id": "-iHkcsNI6azU",
        "outputId": "fe9fb450-7e3c-41af-b8e3-f4f97b1a6bce"
      },
      "execution_count": null,
      "outputs": [
        {
          "output_type": "stream",
          "name": "stdout",
          "text": [
            "Fold 1/2\n",
            "  Epoch 1/10\n"
          ]
        },
        {
          "output_type": "stream",
          "name": "stderr",
          "text": [
            "29it [01:23,  2.86s/it]\n"
          ]
        },
        {
          "output_type": "stream",
          "name": "stdout",
          "text": [
            "score : 0.9427197858837717, train loss:0.48371258570716297,valid loss:0.3238711328855876\n",
            "  Epoch 2/10\n"
          ]
        },
        {
          "output_type": "stream",
          "name": "stderr",
          "text": [
            "29it [01:13,  2.52s/it]\n"
          ]
        },
        {
          "output_type": "stream",
          "name": "stdout",
          "text": [
            "score : 0.9637747033503372, train loss:0.14728592772936,valid loss:0.19887622709161248\n",
            "  Epoch 3/10\n"
          ]
        },
        {
          "output_type": "stream",
          "name": "stderr",
          "text": [
            "29it [01:11,  2.48s/it]\n"
          ]
        },
        {
          "output_type": "stream",
          "name": "stdout",
          "text": [
            "score : 0.9632541353713928, train loss:0.08469290636351397,valid loss:0.2907218028759134\n",
            "  Epoch 4/10\n"
          ]
        },
        {
          "output_type": "stream",
          "name": "stderr",
          "text": [
            "29it [01:12,  2.50s/it]\n"
          ]
        },
        {
          "output_type": "stream",
          "name": "stdout",
          "text": [
            "score : 0.9618158174063512, train loss:0.06886583736872878,valid loss:0.265942808613984\n",
            "  Epoch 5/10\n"
          ]
        },
        {
          "output_type": "stream",
          "name": "stderr",
          "text": [
            "29it [01:12,  2.50s/it]\n"
          ]
        },
        {
          "output_type": "stream",
          "name": "stdout",
          "text": [
            "score : 0.9644791756739366, train loss:0.0616670693431435,valid loss:0.1887569007511925\n",
            "  Epoch 6/10\n"
          ]
        },
        {
          "output_type": "stream",
          "name": "stderr",
          "text": [
            "29it [01:12,  2.48s/it]\n"
          ]
        },
        {
          "output_type": "stream",
          "name": "stdout",
          "text": [
            "score : 0.9624443227494407, train loss:0.026536648518983918,valid loss:0.2598376033811605\n",
            "  Epoch 7/10\n"
          ]
        },
        {
          "output_type": "stream",
          "name": "stderr",
          "text": [
            "29it [01:12,  2.51s/it]\n"
          ]
        },
        {
          "output_type": "stream",
          "name": "stdout",
          "text": [
            "score : 0.9629676828765183, train loss:0.021454897404102415,valid loss:0.3614070771005133\n",
            "  Epoch 8/10\n"
          ]
        },
        {
          "output_type": "stream",
          "name": "stderr",
          "text": [
            "29it [01:12,  2.50s/it]\n"
          ]
        },
        {
          "output_type": "stream",
          "name": "stdout",
          "text": [
            "score : 0.9831727897489896, train loss:0.0881988737282568,valid loss:0.1771180323517785\n",
            "  Epoch 9/10\n"
          ]
        },
        {
          "output_type": "stream",
          "name": "stderr",
          "text": [
            "29it [01:11,  2.48s/it]\n"
          ]
        },
        {
          "output_type": "stream",
          "name": "stdout",
          "text": [
            "score : 0.971132779489035, train loss:0.06302695331597251,valid loss:0.21890592401654557\n",
            "  Epoch 10/10\n"
          ]
        },
        {
          "output_type": "stream",
          "name": "stderr",
          "text": [
            "29it [01:12,  2.50s/it]\n"
          ]
        },
        {
          "output_type": "stream",
          "name": "stdout",
          "text": [
            "score : 0.9758235587959943, train loss:0.02580392709431431,valid loss:0.22262073200143842\n",
            "Fold 2/2\n",
            "  Epoch 1/10\n"
          ]
        },
        {
          "output_type": "stream",
          "name": "stderr",
          "text": [
            "29it [01:12,  2.49s/it]\n"
          ]
        },
        {
          "output_type": "stream",
          "name": "stdout",
          "text": [
            "score : 0.999953234605391, train loss:0.17214445172455803,valid loss:0.020237484641758532\n",
            "  Epoch 2/10\n"
          ]
        },
        {
          "output_type": "stream",
          "name": "stderr",
          "text": [
            "29it [01:13,  2.55s/it]\n"
          ]
        },
        {
          "output_type": "stream",
          "name": "stdout",
          "text": [
            "score : 0.9995786869998545, train loss:0.10886981795895202,valid loss:0.025699933649618822\n",
            "  Epoch 3/10\n"
          ]
        },
        {
          "output_type": "stream",
          "name": "stderr",
          "text": [
            "29it [01:12,  2.48s/it]\n"
          ]
        },
        {
          "output_type": "stream",
          "name": "stdout",
          "text": [
            "score : 0.9981984265434888, train loss:0.03702871403697043,valid loss:0.04826859750881277\n",
            "  Epoch 4/10\n"
          ]
        },
        {
          "output_type": "stream",
          "name": "stderr",
          "text": [
            "29it [01:14,  2.56s/it]\n"
          ]
        },
        {
          "output_type": "stream",
          "name": "stdout",
          "text": [
            "score : 0.9983622560624797, train loss:0.028925823571626097,valid loss:0.032265360979463684\n",
            "  Epoch 5/10\n"
          ]
        },
        {
          "output_type": "stream",
          "name": "stderr",
          "text": [
            "29it [01:11,  2.48s/it]\n"
          ]
        },
        {
          "output_type": "stream",
          "name": "stdout",
          "text": [
            "score : 0.9852726438511263, train loss:0.053871035903033895,valid loss:0.15130629811179022\n",
            "  Epoch 6/10\n"
          ]
        },
        {
          "output_type": "stream",
          "name": "stderr",
          "text": [
            "29it [01:13,  2.54s/it]\n"
          ]
        },
        {
          "output_type": "stream",
          "name": "stdout",
          "text": [
            "score : 0.9991808988895754, train loss:0.04767768827050218,valid loss:0.03642350789320109\n",
            "  Epoch 7/10\n"
          ]
        },
        {
          "output_type": "stream",
          "name": "stderr",
          "text": [
            "29it [01:12,  2.49s/it]\n"
          ]
        },
        {
          "output_type": "stream",
          "name": "stdout",
          "text": [
            "score : 0.9972521275332886, train loss:0.012449093556416959,valid loss:0.06652325708298655\n",
            "  Epoch 8/10\n"
          ]
        },
        {
          "output_type": "stream",
          "name": "stderr",
          "text": [
            "29it [01:12,  2.50s/it]\n"
          ]
        },
        {
          "output_type": "stream",
          "name": "stdout",
          "text": [
            "score : 0.9967522945726477, train loss:0.015372641686804729,valid loss:0.054846086224203866\n",
            "  Epoch 9/10\n"
          ]
        },
        {
          "output_type": "stream",
          "name": "stderr",
          "text": [
            "29it [01:12,  2.49s/it]\n"
          ]
        },
        {
          "output_type": "stream",
          "name": "stdout",
          "text": [
            "score : 0.9979557115971067, train loss:0.0032237945089381636,valid loss:0.060022868308367144\n",
            "  Epoch 10/10\n"
          ]
        },
        {
          "output_type": "stream",
          "name": "stderr",
          "text": [
            "29it [01:13,  2.52s/it]\n"
          ]
        },
        {
          "output_type": "stream",
          "name": "stdout",
          "text": [
            "score : 0.996842124433512, train loss:0.038098859295759804,valid loss:0.12076467737467189\n",
            "2-Folds CV score: 0.9794\n"
          ]
        }
      ]
    },
    {
      "cell_type": "code",
      "source": [
        "train_results = pd.DataFrame(train_results)\n",
        "train_results"
      ],
      "metadata": {
        "id": "C-5UM-mc6gR-",
        "colab": {
          "base_uri": "https://localhost:8080/",
          "height": 677
        },
        "outputId": "f22c34d3-fb47-4fa9-d2a2-79b95341e002"
      },
      "execution_count": null,
      "outputs": [
        {
          "output_type": "execute_result",
          "data": {
            "text/plain": [
              "    fold  epoch  train_loss  valid_loss  valid_score\n",
              "0      0      0    0.483713    0.323871     0.942720\n",
              "1      0      1    0.147286    0.198876     0.963775\n",
              "2      0      2    0.084693    0.290722     0.963254\n",
              "3      0      3    0.068866    0.265943     0.961816\n",
              "4      0      4    0.061667    0.188757     0.964479\n",
              "5      0      5    0.026537    0.259838     0.962444\n",
              "6      0      6    0.021455    0.361407     0.962968\n",
              "7      0      7    0.088199    0.177118     0.983173\n",
              "8      0      8    0.063027    0.218906     0.971133\n",
              "9      0      9    0.025804    0.222621     0.975824\n",
              "10     1      0    0.172144    0.020237     0.999953\n",
              "11     1      1    0.108870    0.025700     0.999579\n",
              "12     1      2    0.037029    0.048269     0.998198\n",
              "13     1      3    0.028926    0.032265     0.998362\n",
              "14     1      4    0.053871    0.151306     0.985273\n",
              "15     1      5    0.047678    0.036424     0.999181\n",
              "16     1      6    0.012449    0.066523     0.997252\n",
              "17     1      7    0.015373    0.054846     0.996752\n",
              "18     1      8    0.003224    0.060023     0.997956\n",
              "19     1      9    0.038099    0.120765     0.996842"
            ],
            "text/html": [
              "\n",
              "  <div id=\"df-808eb5da-1dc1-480f-9860-7ff22e3bf548\">\n",
              "    <div class=\"colab-df-container\">\n",
              "      <div>\n",
              "<style scoped>\n",
              "    .dataframe tbody tr th:only-of-type {\n",
              "        vertical-align: middle;\n",
              "    }\n",
              "\n",
              "    .dataframe tbody tr th {\n",
              "        vertical-align: top;\n",
              "    }\n",
              "\n",
              "    .dataframe thead th {\n",
              "        text-align: right;\n",
              "    }\n",
              "</style>\n",
              "<table border=\"1\" class=\"dataframe\">\n",
              "  <thead>\n",
              "    <tr style=\"text-align: right;\">\n",
              "      <th></th>\n",
              "      <th>fold</th>\n",
              "      <th>epoch</th>\n",
              "      <th>train_loss</th>\n",
              "      <th>valid_loss</th>\n",
              "      <th>valid_score</th>\n",
              "    </tr>\n",
              "  </thead>\n",
              "  <tbody>\n",
              "    <tr>\n",
              "      <th>0</th>\n",
              "      <td>0</td>\n",
              "      <td>0</td>\n",
              "      <td>0.483713</td>\n",
              "      <td>0.323871</td>\n",
              "      <td>0.942720</td>\n",
              "    </tr>\n",
              "    <tr>\n",
              "      <th>1</th>\n",
              "      <td>0</td>\n",
              "      <td>1</td>\n",
              "      <td>0.147286</td>\n",
              "      <td>0.198876</td>\n",
              "      <td>0.963775</td>\n",
              "    </tr>\n",
              "    <tr>\n",
              "      <th>2</th>\n",
              "      <td>0</td>\n",
              "      <td>2</td>\n",
              "      <td>0.084693</td>\n",
              "      <td>0.290722</td>\n",
              "      <td>0.963254</td>\n",
              "    </tr>\n",
              "    <tr>\n",
              "      <th>3</th>\n",
              "      <td>0</td>\n",
              "      <td>3</td>\n",
              "      <td>0.068866</td>\n",
              "      <td>0.265943</td>\n",
              "      <td>0.961816</td>\n",
              "    </tr>\n",
              "    <tr>\n",
              "      <th>4</th>\n",
              "      <td>0</td>\n",
              "      <td>4</td>\n",
              "      <td>0.061667</td>\n",
              "      <td>0.188757</td>\n",
              "      <td>0.964479</td>\n",
              "    </tr>\n",
              "    <tr>\n",
              "      <th>5</th>\n",
              "      <td>0</td>\n",
              "      <td>5</td>\n",
              "      <td>0.026537</td>\n",
              "      <td>0.259838</td>\n",
              "      <td>0.962444</td>\n",
              "    </tr>\n",
              "    <tr>\n",
              "      <th>6</th>\n",
              "      <td>0</td>\n",
              "      <td>6</td>\n",
              "      <td>0.021455</td>\n",
              "      <td>0.361407</td>\n",
              "      <td>0.962968</td>\n",
              "    </tr>\n",
              "    <tr>\n",
              "      <th>7</th>\n",
              "      <td>0</td>\n",
              "      <td>7</td>\n",
              "      <td>0.088199</td>\n",
              "      <td>0.177118</td>\n",
              "      <td>0.983173</td>\n",
              "    </tr>\n",
              "    <tr>\n",
              "      <th>8</th>\n",
              "      <td>0</td>\n",
              "      <td>8</td>\n",
              "      <td>0.063027</td>\n",
              "      <td>0.218906</td>\n",
              "      <td>0.971133</td>\n",
              "    </tr>\n",
              "    <tr>\n",
              "      <th>9</th>\n",
              "      <td>0</td>\n",
              "      <td>9</td>\n",
              "      <td>0.025804</td>\n",
              "      <td>0.222621</td>\n",
              "      <td>0.975824</td>\n",
              "    </tr>\n",
              "    <tr>\n",
              "      <th>10</th>\n",
              "      <td>1</td>\n",
              "      <td>0</td>\n",
              "      <td>0.172144</td>\n",
              "      <td>0.020237</td>\n",
              "      <td>0.999953</td>\n",
              "    </tr>\n",
              "    <tr>\n",
              "      <th>11</th>\n",
              "      <td>1</td>\n",
              "      <td>1</td>\n",
              "      <td>0.108870</td>\n",
              "      <td>0.025700</td>\n",
              "      <td>0.999579</td>\n",
              "    </tr>\n",
              "    <tr>\n",
              "      <th>12</th>\n",
              "      <td>1</td>\n",
              "      <td>2</td>\n",
              "      <td>0.037029</td>\n",
              "      <td>0.048269</td>\n",
              "      <td>0.998198</td>\n",
              "    </tr>\n",
              "    <tr>\n",
              "      <th>13</th>\n",
              "      <td>1</td>\n",
              "      <td>3</td>\n",
              "      <td>0.028926</td>\n",
              "      <td>0.032265</td>\n",
              "      <td>0.998362</td>\n",
              "    </tr>\n",
              "    <tr>\n",
              "      <th>14</th>\n",
              "      <td>1</td>\n",
              "      <td>4</td>\n",
              "      <td>0.053871</td>\n",
              "      <td>0.151306</td>\n",
              "      <td>0.985273</td>\n",
              "    </tr>\n",
              "    <tr>\n",
              "      <th>15</th>\n",
              "      <td>1</td>\n",
              "      <td>5</td>\n",
              "      <td>0.047678</td>\n",
              "      <td>0.036424</td>\n",
              "      <td>0.999181</td>\n",
              "    </tr>\n",
              "    <tr>\n",
              "      <th>16</th>\n",
              "      <td>1</td>\n",
              "      <td>6</td>\n",
              "      <td>0.012449</td>\n",
              "      <td>0.066523</td>\n",
              "      <td>0.997252</td>\n",
              "    </tr>\n",
              "    <tr>\n",
              "      <th>17</th>\n",
              "      <td>1</td>\n",
              "      <td>7</td>\n",
              "      <td>0.015373</td>\n",
              "      <td>0.054846</td>\n",
              "      <td>0.996752</td>\n",
              "    </tr>\n",
              "    <tr>\n",
              "      <th>18</th>\n",
              "      <td>1</td>\n",
              "      <td>8</td>\n",
              "      <td>0.003224</td>\n",
              "      <td>0.060023</td>\n",
              "      <td>0.997956</td>\n",
              "    </tr>\n",
              "    <tr>\n",
              "      <th>19</th>\n",
              "      <td>1</td>\n",
              "      <td>9</td>\n",
              "      <td>0.038099</td>\n",
              "      <td>0.120765</td>\n",
              "      <td>0.996842</td>\n",
              "    </tr>\n",
              "  </tbody>\n",
              "</table>\n",
              "</div>\n",
              "      <button class=\"colab-df-convert\" onclick=\"convertToInteractive('df-808eb5da-1dc1-480f-9860-7ff22e3bf548')\"\n",
              "              title=\"Convert this dataframe to an interactive table.\"\n",
              "              style=\"display:none;\">\n",
              "        \n",
              "  <svg xmlns=\"http://www.w3.org/2000/svg\" height=\"24px\"viewBox=\"0 0 24 24\"\n",
              "       width=\"24px\">\n",
              "    <path d=\"M0 0h24v24H0V0z\" fill=\"none\"/>\n",
              "    <path d=\"M18.56 5.44l.94 2.06.94-2.06 2.06-.94-2.06-.94-.94-2.06-.94 2.06-2.06.94zm-11 1L8.5 8.5l.94-2.06 2.06-.94-2.06-.94L8.5 2.5l-.94 2.06-2.06.94zm10 10l.94 2.06.94-2.06 2.06-.94-2.06-.94-.94-2.06-.94 2.06-2.06.94z\"/><path d=\"M17.41 7.96l-1.37-1.37c-.4-.4-.92-.59-1.43-.59-.52 0-1.04.2-1.43.59L10.3 9.45l-7.72 7.72c-.78.78-.78 2.05 0 2.83L4 21.41c.39.39.9.59 1.41.59.51 0 1.02-.2 1.41-.59l7.78-7.78 2.81-2.81c.8-.78.8-2.07 0-2.86zM5.41 20L4 18.59l7.72-7.72 1.47 1.35L5.41 20z\"/>\n",
              "  </svg>\n",
              "      </button>\n",
              "      \n",
              "  <style>\n",
              "    .colab-df-container {\n",
              "      display:flex;\n",
              "      flex-wrap:wrap;\n",
              "      gap: 12px;\n",
              "    }\n",
              "\n",
              "    .colab-df-convert {\n",
              "      background-color: #E8F0FE;\n",
              "      border: none;\n",
              "      border-radius: 50%;\n",
              "      cursor: pointer;\n",
              "      display: none;\n",
              "      fill: #1967D2;\n",
              "      height: 32px;\n",
              "      padding: 0 0 0 0;\n",
              "      width: 32px;\n",
              "    }\n",
              "\n",
              "    .colab-df-convert:hover {\n",
              "      background-color: #E2EBFA;\n",
              "      box-shadow: 0px 1px 2px rgba(60, 64, 67, 0.3), 0px 1px 3px 1px rgba(60, 64, 67, 0.15);\n",
              "      fill: #174EA6;\n",
              "    }\n",
              "\n",
              "    [theme=dark] .colab-df-convert {\n",
              "      background-color: #3B4455;\n",
              "      fill: #D2E3FC;\n",
              "    }\n",
              "\n",
              "    [theme=dark] .colab-df-convert:hover {\n",
              "      background-color: #434B5C;\n",
              "      box-shadow: 0px 1px 3px 1px rgba(0, 0, 0, 0.15);\n",
              "      filter: drop-shadow(0px 1px 2px rgba(0, 0, 0, 0.3));\n",
              "      fill: #FFFFFF;\n",
              "    }\n",
              "  </style>\n",
              "\n",
              "      <script>\n",
              "        const buttonEl =\n",
              "          document.querySelector('#df-808eb5da-1dc1-480f-9860-7ff22e3bf548 button.colab-df-convert');\n",
              "        buttonEl.style.display =\n",
              "          google.colab.kernel.accessAllowed ? 'block' : 'none';\n",
              "\n",
              "        async function convertToInteractive(key) {\n",
              "          const element = document.querySelector('#df-808eb5da-1dc1-480f-9860-7ff22e3bf548');\n",
              "          const dataTable =\n",
              "            await google.colab.kernel.invokeFunction('convertToInteractive',\n",
              "                                                     [key], {});\n",
              "          if (!dataTable) return;\n",
              "\n",
              "          const docLinkHtml = 'Like what you see? Visit the ' +\n",
              "            '<a target=\"_blank\" href=https://colab.research.google.com/notebooks/data_table.ipynb>data table notebook</a>'\n",
              "            + ' to learn more about interactive tables.';\n",
              "          element.innerHTML = '';\n",
              "          dataTable['output_type'] = 'display_data';\n",
              "          await google.colab.output.renderOutput(dataTable, element);\n",
              "          const docLink = document.createElement('div');\n",
              "          docLink.innerHTML = docLinkHtml;\n",
              "          element.appendChild(docLink);\n",
              "        }\n",
              "      </script>\n",
              "    </div>\n",
              "  </div>\n",
              "  "
            ]
          },
          "metadata": {},
          "execution_count": 16
        }
      ]
    },
    {
      "cell_type": "code",
      "source": [
        "import matplotlib.pyplot as plt\n",
        "\n",
        "data1 = train_results[train_results['fold'] == 0]\n",
        "data1 = data1.iloc[0:10]\n",
        "data1 = data1['valid_loss']\n",
        "epochs = range(10)\n",
        "\n",
        "plt.plot(epochs, data1, 'r')\n",
        "plt.xlabel('Epoch')\n",
        "plt.ylabel('Loss')\n",
        "plt.title('Validation/Train Loss by Epoch')\n",
        "plt.ylim(0, 1.7)\n",
        "plt.xlim(0, 10)\n",
        "\n",
        "data2 = train_results[train_results['fold'] == 1]\n",
        "data2 = data2.iloc[0:10]\n",
        "data2 = data2['valid_loss']\n",
        "plt.plot(epochs, data2, 'g')\n",
        "\n",
        "data3 = train_results[train_results['fold'] == 0]\n",
        "data3 = data3.iloc[0:10]\n",
        "data3 = data3['train_loss']\n",
        "plt.plot(epochs, data3, 'b')\n",
        "\n",
        "data4 = train_results[train_results['fold'] == 1]\n",
        "data4 = data4.iloc[0:10]\n",
        "data4 = data4['train_loss']\n",
        "plt.plot(epochs, data4, 'y')\n",
        "plt.legend(['valid loss fold 0','valid loss fold 1','train loss fold 0','train loss fold 1'])\n",
        "plt.show()\n"
      ],
      "metadata": {
        "colab": {
          "base_uri": "https://localhost:8080/",
          "height": 472
        },
        "id": "l3e3jqQLSXch",
        "outputId": "0b6dd43e-fc66-48f6-a7b1-d3c761b0ece5"
      },
      "execution_count": null,
      "outputs": [
        {
          "output_type": "display_data",
          "data": {
            "text/plain": [
              "<Figure size 640x480 with 1 Axes>"
            ],
            "image/png": "[encoded data removed]"
          },
          "metadata": {}
        }
      ]
    },
    {
      "cell_type": "code",
      "source": [
        "data1 = train_results[train_results['fold'] == 0]\n",
        "data1 = data1.iloc[0:20]\n",
        "data1 = data1['valid_score']\n",
        "epochs = range(10)\n",
        "\n",
        "plt.plot(epochs, data1, 'r')\n",
        "plt.xlabel('Epoch')\n",
        "plt.ylabel('Validation Score')\n",
        "plt.title('Validation Scores by Epoch')\n",
        "plt.ylim(0, 1.0)\n",
        "plt.xlim(0, 10)\n",
        "\n",
        "data2 = train_results[train_results['fold'] == 1]\n",
        "data2 = data2.iloc[0:10]\n",
        "data2 = data2['valid_score']\n",
        "plt.plot(epochs, data2, 'g')\n",
        "\n",
        "plt.legend(['valid loss fold 0','valid loss fold 1'])\n",
        "plt.show()"
      ],
      "metadata": {
        "colab": {
          "base_uri": "https://localhost:8080/",
          "height": 472
        },
        "id": "9G3bCUy6caRj",
        "outputId": "a3466dc9-046d-4bf2-ff8e-faf6c8d46a69"
      },
      "execution_count": null,
      "outputs": [
        {
          "output_type": "display_data",
          "data": {
            "text/plain": [
              "<Figure size 640x480 with 1 Axes>"
            ],
            "image/png": "[encoded data removed]"
          },
          "metadata": {}
        }
      ]
    }
  ]
}