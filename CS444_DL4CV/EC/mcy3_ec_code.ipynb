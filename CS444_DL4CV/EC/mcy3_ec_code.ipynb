{
  "nbformat": 4,
  "nbformat_minor": 0,
  "metadata": {
    "colab": {
      "provenance": [],
      "gpuType": "T4"
    },
    "kernelspec": {
      "name": "python3",
      "display_name": "Python 3"
    },
    "language_info": {
      "name": "python"
    },
    "accelerator": "GPU",
    "gpuClass": "standard"
  },
  "cells": [
    {
      "cell_type": "code",
      "source": [
        "from google.colab import drive\n",
        "drive.mount(\"/content/drive\")\n",
        "\n",
        "import os\n",
        "datadir = \"/content/drive/My Drive/CS444/EC\"\n",
        "\n",
        "os.chdir(datadir)\n",
        "!pwd"
      ],
      "metadata": {
        "id": "YcGXvjEYeVSK",
        "colab": {
          "base_uri": "https://localhost:8080/",
          "height": 0
        },
        "outputId": "9e1241b7-a64c-4a86-803f-e38899b8d7e4"
      },
      "execution_count": 1,
      "outputs": [
        {
          "output_type": "stream",
          "name": "stdout",
          "text": [
            "Drive already mounted at /content/drive; to attempt to forcibly remount, call drive.mount(\"/content/drive\", force_remount=True).\n",
            "/content/drive/My Drive/CS444/EC\n"
          ]
        }
      ]
    },
    {
      "cell_type": "code",
      "source": [
        "!tar zxvf imagenette2-320.tgz\n",
        "!ls"
      ],
      "metadata": {
        "id": "n-V2ixt94_Vk"
      },
      "execution_count": null,
      "outputs": []
    },
    {
      "cell_type": "code",
      "execution_count": 2,
      "metadata": {
        "id": "aw8ycMpuY0MW"
      },
      "outputs": [],
      "source": [
        "from __future__ import print_function\n",
        "import torch\n",
        "import torch.nn as nn\n",
        "import torch.nn.functional as F\n",
        "import torch.optim as optim\n",
        "from torchvision import datasets, transforms,models\n",
        "import numpy as np\n",
        "import matplotlib.pyplot as plt\n",
        "import torch.utils.data as Data\n"
      ]
    },
    {
      "cell_type": "code",
      "source": [
        "epsilons = [0, .05, .1, .15, .2, .25, .3]\n",
        "use_cuda=True"
      ],
      "metadata": {
        "id": "uJPXROQ6dDtm"
      },
      "execution_count": 3,
      "outputs": []
    },
    {
      "cell_type": "code",
      "source": [
        "from torchvision.transforms.transforms import Compose\n",
        "from tqdm import tqdm\n",
        "# Define the device \n",
        "print(\"CUDA Available: \",torch.cuda.is_available())\n",
        "device = torch.device(\"cuda\" if (use_cuda and torch.cuda.is_available()) else \"cpu\")\n",
        "\n",
        "# model define\n",
        "model = models.inception_v3(weights='IMAGENET1K_V1').to(device)\n",
        "\n",
        "model.eval()\n",
        "\n",
        "# Init Dataset\n",
        "\n",
        "transform = transforms.Compose([\n",
        "    transforms.Resize((299,299)),\n",
        "    transforms.ToTensor(),\n",
        "])\n",
        "\n",
        "classes_S = [0,217,482,491,497,566,569,571,574,701]\n",
        "testing = datasets.ImageFolder(root = '/content/drive/My Drive/CS444/EC/imagenette2-320/val/',transform = transform)\n",
        "print(testing.classes)\n",
        "testing,_ = torch.utils.data.random_split(testing, [1000, len(testing)-1000])\n",
        "\n",
        "loader = Data.DataLoader(testing, batch_size=1, shuffle=True)"
      ],
      "metadata": {
        "colab": {
          "base_uri": "https://localhost:8080/",
          "height": 0
        },
        "id": "ZOjP2T-BWhj2",
        "outputId": "d9b7672b-7dad-43a3-8cc7-e04c5f331f90"
      },
      "execution_count": 4,
      "outputs": [
        {
          "output_type": "stream",
          "name": "stdout",
          "text": [
            "CUDA Available:  False\n",
            "['n01440764', 'n02102040', 'n02979186', 'n03000684', 'n03028079', 'n03394916', 'n03417042', 'n03425413', 'n03445777', 'n03888257']\n"
          ]
        }
      ]
    },
    {
      "cell_type": "code",
      "source": [
        "def fgsm_attack(image, epsilon, data_grad):\n",
        "\n",
        "    perturbed_image = image + epsilon*data_grad.sign()\n",
        "    \n",
        "    perturbed_image = torch.clamp(perturbed_image, 0, 1)\n",
        "\n",
        "    return perturbed_image"
      ],
      "metadata": {
        "id": "D7UMtkWPdJYi"
      },
      "execution_count": 5,
      "outputs": []
    },
    {
      "cell_type": "code",
      "source": [
        "def test( model, device, test_loader, epsilon ):\n",
        "\n",
        "    correct = 0\n",
        "\n",
        "    for data, target in tqdm(test_loader):\n",
        "\n",
        "        data, target = data.to(device), target.to(device)\n",
        "        data.requires_grad = True\n",
        "\n",
        "\n",
        "        output = model(data)\n",
        "        _ , init_pred = torch.max(output.data,1)\n",
        "\n",
        "        if init_pred!=classes_S[target]:\n",
        "            continue\n",
        "\n",
        "        loss = F.nll_loss(output, target)\n",
        "        model.zero_grad()\n",
        "        loss.backward()\n",
        "\n",
        "        perturbed_data = fgsm_attack(data, epsilon, data.grad.data)\n",
        "        output = model(perturbed_data)\n",
        "   \n",
        "        _ , pre = torch.max(output.data,1)\n",
        "        correct +=(pre==classes_S[target]).sum()\n",
        "\n",
        "    final_acc = correct/float(len(test_loader))\n",
        "    print(\"Epsilon: {}\\tTest Accuracy = {} / {} = {}\".format(epsilon, correct, len(test_loader), final_acc))\n",
        "\n",
        "    return final_acc.detach().cpu()"
      ],
      "metadata": {
        "id": "9FCU6_2vdM48"
      },
      "execution_count": 6,
      "outputs": []
    },
    {
      "cell_type": "code",
      "source": [
        "fsgm_accuracies = []\n",
        "\n",
        "for eps in epsilons:\n",
        "    acc = test(model, device, loader, eps)\n",
        "    fsgm_accuracies.append(acc)\n"
      ],
      "metadata": {
        "id": "49_mhxz8dUyC",
        "colab": {
          "base_uri": "https://localhost:8080/",
          "height": 0
        },
        "outputId": "09b7c18a-9141-46fd-d667-2eaa11dbc29b"
      },
      "execution_count": 97,
      "outputs": [
        {
          "output_type": "stream",
          "name": "stderr",
          "text": [
            "100%|██████████| 1000/1000 [02:27<00:00,  6.77it/s]\n"
          ]
        },
        {
          "output_type": "stream",
          "name": "stdout",
          "text": [
            "Epsilon: 0\tTest Accuracy = 772 / 1000 = 0.7720000147819519\n"
          ]
        },
        {
          "output_type": "stream",
          "name": "stderr",
          "text": [
            "100%|██████████| 1000/1000 [00:50<00:00, 19.78it/s]\n"
          ]
        },
        {
          "output_type": "stream",
          "name": "stdout",
          "text": [
            "Epsilon: 0.05\tTest Accuracy = 345 / 1000 = 0.3450000286102295\n"
          ]
        },
        {
          "output_type": "stream",
          "name": "stderr",
          "text": [
            "100%|██████████| 1000/1000 [00:52<00:00, 18.97it/s]\n"
          ]
        },
        {
          "output_type": "stream",
          "name": "stdout",
          "text": [
            "Epsilon: 0.1\tTest Accuracy = 230 / 1000 = 0.23000000417232513\n"
          ]
        },
        {
          "output_type": "stream",
          "name": "stderr",
          "text": [
            "100%|██████████| 1000/1000 [00:53<00:00, 18.85it/s]\n"
          ]
        },
        {
          "output_type": "stream",
          "name": "stdout",
          "text": [
            "Epsilon: 0.15\tTest Accuracy = 152 / 1000 = 0.15200001001358032\n"
          ]
        },
        {
          "output_type": "stream",
          "name": "stderr",
          "text": [
            "100%|██████████| 1000/1000 [00:52<00:00, 19.17it/s]\n"
          ]
        },
        {
          "output_type": "stream",
          "name": "stdout",
          "text": [
            "Epsilon: 0.2\tTest Accuracy = 98 / 1000 = 0.09800000488758087\n"
          ]
        },
        {
          "output_type": "stream",
          "name": "stderr",
          "text": [
            "100%|██████████| 1000/1000 [00:52<00:00, 19.11it/s]\n"
          ]
        },
        {
          "output_type": "stream",
          "name": "stdout",
          "text": [
            "Epsilon: 0.25\tTest Accuracy = 50 / 1000 = 0.05000000074505806\n"
          ]
        },
        {
          "output_type": "stream",
          "name": "stderr",
          "text": [
            "100%|██████████| 1000/1000 [00:50<00:00, 19.66it/s]"
          ]
        },
        {
          "output_type": "stream",
          "name": "stdout",
          "text": [
            "Epsilon: 0.3\tTest Accuracy = 21 / 1000 = 0.021000001579523087\n"
          ]
        },
        {
          "output_type": "stream",
          "name": "stderr",
          "text": [
            "\n"
          ]
        }
      ]
    },
    {
      "cell_type": "code",
      "source": [
        "#referenced from https://github.com/Harry24k/AEPW-pytorch/blob/master/Adversarial%20examples%20in%20the%20physical%20world.ipynb\n",
        "\n",
        "def iter_(model, images, labels, eps, alpha) :\n",
        "    images = images.to(device)\n",
        "    labels = labels.to(device)\n",
        "    \n",
        "    # min(eps + 4, 1.25*eps) was used in the paper but I did some modifications for time computing wise\n",
        "    iters = int(min((eps*255) + 4, 1.25*eps*255)/5)\n",
        "    \n",
        "    for _ in range(iters) :    \n",
        "        images.requires_grad = True\n",
        "        outputs = model(images)\n",
        "\n",
        "        model.zero_grad()\n",
        "        cost = F.nll_loss(outputs, labels).to(device)\n",
        "        cost.backward()\n",
        "\n",
        "        attack_images = images + alpha*images.grad.sign()\n",
        "        \n",
        "        # Clip attack images(X')\n",
        "        # min{255, X+eps, max{0, X-eps, X'}}\n",
        "        # = min{255, min{X+eps, max{max{0, X-eps}, X'}}}\n",
        "        \n",
        "        # a = max{0, X-eps}\n",
        "        a = torch.clamp(images - eps, min=0)\n",
        "        # b = max{a, X'}\n",
        "        b = (attack_images>=a).float()*attack_images + (a>attack_images).float()*a\n",
        "        # c = min{X+eps, b}\n",
        "        c = (b > images+eps).float()*(images+eps) + (images+eps >= b).float()*b\n",
        "        # d = min{1, c}\n",
        "        images = torch.clamp(c, max=1).detach_()\n",
        "            \n",
        "    return images"
      ],
      "metadata": {
        "id": "24axt7FsXIiz"
      },
      "execution_count": 7,
      "outputs": []
    },
    {
      "cell_type": "code",
      "source": [
        "def test_iter(model, device, test_loader, epsilon):\n",
        "    correct = 0\n",
        "    for data, target in tqdm(test_loader):\n",
        "        \n",
        "        perturbed_data = iter_(model,data,target,epsilon,.005)\n",
        "\n",
        "        output = model(perturbed_data)\n",
        "      \n",
        "        _ , pre = torch.max(output.data,1)\n",
        "        correct +=(pre==classes_S[target]).sum()\n",
        "\n",
        "    final_acc = correct/float(len(test_loader))\n",
        "    print(\"Epsilon: {}\\tTest Accuracy = {} / {} = {}\".format(epsilon, correct, len(test_loader), final_acc))\n",
        "\n",
        "    return final_acc.detach().cpu()"
      ],
      "metadata": {
        "id": "QvUbuvvNX3Ey"
      },
      "execution_count": 8,
      "outputs": []
    },
    {
      "cell_type": "code",
      "source": [
        "iter_accuracies = []\n",
        "\n",
        "for eps in epsilons:\n",
        "    print(int(min((eps*255) + 4, 1.25*eps*255)/5))\n",
        "    acc = test_iter(model, device, loader, eps)\n",
        "    iter_accuracies.append(acc)"
      ],
      "metadata": {
        "colab": {
          "base_uri": "https://localhost:8080/",
          "height": 0
        },
        "id": "iU94WUXQa3fl",
        "outputId": "4c284a03-4007-4c3d-fe32-a476fdd1f40c"
      },
      "execution_count": 100,
      "outputs": [
        {
          "output_type": "stream",
          "name": "stdout",
          "text": [
            "0\n"
          ]
        },
        {
          "output_type": "stream",
          "name": "stderr",
          "text": [
            "100%|██████████| 1000/1000 [00:24<00:00, 40.08it/s]\n"
          ]
        },
        {
          "output_type": "stream",
          "name": "stdout",
          "text": [
            "Epsilon: 0\tTest Accuracy = 772 / 1000 = 0.7720000147819519\n",
            "3\n"
          ]
        },
        {
          "output_type": "stream",
          "name": "stderr",
          "text": [
            "100%|██████████| 1000/1000 [02:07<00:00,  7.86it/s]\n"
          ]
        },
        {
          "output_type": "stream",
          "name": "stdout",
          "text": [
            "Epsilon: 0.05\tTest Accuracy = 443 / 1000 = 0.44300001859664917\n",
            "5\n"
          ]
        },
        {
          "output_type": "stream",
          "name": "stderr",
          "text": [
            "100%|██████████| 1000/1000 [03:13<00:00,  5.16it/s]\n"
          ]
        },
        {
          "output_type": "stream",
          "name": "stdout",
          "text": [
            "Epsilon: 0.1\tTest Accuracy = 303 / 1000 = 0.30300000309944153\n",
            "8\n"
          ]
        },
        {
          "output_type": "stream",
          "name": "stderr",
          "text": [
            "100%|██████████| 1000/1000 [04:46<00:00,  3.49it/s]\n"
          ]
        },
        {
          "output_type": "stream",
          "name": "stdout",
          "text": [
            "Epsilon: 0.15\tTest Accuracy = 187 / 1000 = 0.18700000643730164\n",
            "11\n"
          ]
        },
        {
          "output_type": "stream",
          "name": "stderr",
          "text": [
            "100%|██████████| 1000/1000 [06:15<00:00,  2.66it/s]\n"
          ]
        },
        {
          "output_type": "stream",
          "name": "stdout",
          "text": [
            "Epsilon: 0.2\tTest Accuracy = 149 / 1000 = 0.14900000393390656\n",
            "13\n"
          ]
        },
        {
          "output_type": "stream",
          "name": "stderr",
          "text": [
            "100%|██████████| 1000/1000 [07:21<00:00,  2.27it/s]\n"
          ]
        },
        {
          "output_type": "stream",
          "name": "stdout",
          "text": [
            "Epsilon: 0.25\tTest Accuracy = 115 / 1000 = 0.11500000208616257\n",
            "16\n"
          ]
        },
        {
          "output_type": "stream",
          "name": "stderr",
          "text": [
            "100%|██████████| 1000/1000 [09:07<00:00,  1.83it/s]"
          ]
        },
        {
          "output_type": "stream",
          "name": "stdout",
          "text": [
            "Epsilon: 0.3\tTest Accuracy = 90 / 1000 = 0.09000000357627869\n"
          ]
        },
        {
          "output_type": "stream",
          "name": "stderr",
          "text": [
            "\n"
          ]
        }
      ]
    },
    {
      "cell_type": "code",
      "source": [
        "def ll_class_attack(model, images, eps) :\n",
        "    images = images.to(device)    \n",
        "    outputs = model(images)\n",
        "    _, labels = torch.min(outputs.data, 1)\n",
        "    labels = labels.detach_()\n",
        "    \n",
        "    images.requires_grad = True\n",
        "    outputs = model(images)\n",
        "\n",
        "    model.zero_grad()\n",
        "    cost = F.nll_loss(outputs, labels).to(device)\n",
        "    cost.backward()\n",
        "\n",
        "    images = images - eps*images.grad.sign()\n",
        "\n",
        "    images = torch.clamp(images,0,1)\n",
        "    \n",
        "    return images"
      ],
      "metadata": {
        "id": "DwPT02dp9m9c"
      },
      "execution_count": 9,
      "outputs": []
    },
    {
      "cell_type": "code",
      "source": [
        "def test_llc(model, device, test_loader, epsilon):\n",
        "    correct = 0\n",
        "    for data, target in tqdm(test_loader):\n",
        "\n",
        "        perturbed_data = ll_class_attack(model,data,epsilon)\n",
        "\n",
        "        output = model(perturbed_data)\n",
        "      \n",
        "        _ , pre = torch.max(output.data,1)\n",
        "        correct +=(pre==classes_S[target]).sum()\n",
        "\n",
        "    final_acc = correct/float(len(test_loader))\n",
        "    print(\"Epsilon: {}\\tTest Accuracy = {} / {} = {}\".format(epsilon, correct, len(test_loader), final_acc))\n",
        "\n",
        "    return final_acc.detach().cpu()"
      ],
      "metadata": {
        "id": "Kj_Y84S-9s_j"
      },
      "execution_count": 10,
      "outputs": []
    },
    {
      "cell_type": "code",
      "source": [
        "llc_accuracies = []\n",
        "\n",
        "for eps in epsilons:\n",
        "    acc = test_llc(model, device, loader, eps)\n",
        "    llc_accuracies.append(acc)"
      ],
      "metadata": {
        "colab": {
          "base_uri": "https://localhost:8080/",
          "height": 0
        },
        "id": "WuEOicEw-Smv",
        "outputId": "27adcbe8-62b3-42d1-c47b-c3cf32e21759"
      },
      "execution_count": 103,
      "outputs": [
        {
          "output_type": "stream",
          "name": "stderr",
          "text": [
            "100%|██████████| 1000/1000 [01:14<00:00, 13.43it/s]\n"
          ]
        },
        {
          "output_type": "stream",
          "name": "stdout",
          "text": [
            "Epsilon: 0\tTest Accuracy = 772 / 1000 = 0.7720000147819519\n"
          ]
        },
        {
          "output_type": "stream",
          "name": "stderr",
          "text": [
            "100%|██████████| 1000/1000 [01:15<00:00, 13.20it/s]\n"
          ]
        },
        {
          "output_type": "stream",
          "name": "stdout",
          "text": [
            "Epsilon: 0.05\tTest Accuracy = 433 / 1000 = 0.43300002813339233\n"
          ]
        },
        {
          "output_type": "stream",
          "name": "stderr",
          "text": [
            "100%|██████████| 1000/1000 [01:15<00:00, 13.32it/s]\n"
          ]
        },
        {
          "output_type": "stream",
          "name": "stdout",
          "text": [
            "Epsilon: 0.1\tTest Accuracy = 312 / 1000 = 0.31200000643730164\n"
          ]
        },
        {
          "output_type": "stream",
          "name": "stderr",
          "text": [
            "100%|██████████| 1000/1000 [01:16<00:00, 13.03it/s]\n"
          ]
        },
        {
          "output_type": "stream",
          "name": "stdout",
          "text": [
            "Epsilon: 0.15\tTest Accuracy = 191 / 1000 = 0.19100001454353333\n"
          ]
        },
        {
          "output_type": "stream",
          "name": "stderr",
          "text": [
            "100%|██████████| 1000/1000 [01:15<00:00, 13.20it/s]\n"
          ]
        },
        {
          "output_type": "stream",
          "name": "stdout",
          "text": [
            "Epsilon: 0.2\tTest Accuracy = 101 / 1000 = 0.10100000351667404\n"
          ]
        },
        {
          "output_type": "stream",
          "name": "stderr",
          "text": [
            "100%|██████████| 1000/1000 [01:16<00:00, 13.07it/s]\n"
          ]
        },
        {
          "output_type": "stream",
          "name": "stdout",
          "text": [
            "Epsilon: 0.25\tTest Accuracy = 42 / 1000 = 0.04200000315904617\n"
          ]
        },
        {
          "output_type": "stream",
          "name": "stderr",
          "text": [
            "100%|██████████| 1000/1000 [01:15<00:00, 13.26it/s]"
          ]
        },
        {
          "output_type": "stream",
          "name": "stdout",
          "text": [
            "Epsilon: 0.3\tTest Accuracy = 21 / 1000 = 0.021000001579523087\n"
          ]
        },
        {
          "output_type": "stream",
          "name": "stderr",
          "text": [
            "\n"
          ]
        }
      ]
    },
    {
      "cell_type": "code",
      "source": [
        "plt.figure(figsize=(5,5))\n",
        "plt.plot(epsilons, fsgm_accuracies, \"*-\",label=\"FSGM\")\n",
        "plt.plot(epsilons, iter_accuracies, \"*-\",label=\"I-FSGM\")\n",
        "plt.plot(epsilons, llc_accuracies, \"*-\",label=\"LLC\")\n",
        "plt.legend()\n",
        "plt.yticks(np.arange(0, 1.1, step=0.1))\n",
        "plt.xticks(np.arange(0, .35, step=0.05))\n",
        "plt.title(\"Accuracy vs Epsilon\")\n",
        "plt.xlabel(\"Epsilon\")\n",
        "plt.ylabel(\"Accuracy\")\n",
        "plt.show()"
      ],
      "metadata": {
        "id": "YKHS8z43dXCi",
        "colab": {
          "base_uri": "https://localhost:8080/",
          "height": 487
        },
        "outputId": "9042dcf9-434b-4648-8ef4-de63a8937eec"
      },
      "execution_count": 104,
      "outputs": [
        {
          "output_type": "display_data",
          "data": {
            "text/plain": [
              "<Figure size 500x500 with 1 Axes>"
            ],
            "image/png": "[encoded data removed]"
          },
          "metadata": {}
        }
      ]
    },
    {
      "cell_type": "code",
      "source": [
        "image,target = next(iter(loader))\n",
        "plt.figure(figsize=(8,10))\n",
        "for i in range(len(epsilons)):\n",
        "    for j in range(len(examples[i])):\n",
        "        cnt += 1\n",
        "        plt.subplot(len(epsilons),len(examples[0]),cnt)\n",
        "        plt.xticks([], [])\n",
        "        plt.yticks([], [])\n",
        "        if j == 0:\n",
        "            plt.ylabel(\"Eps: {}\".format(epsilons[i]), fontsize=14)\n",
        "        orig,adv,ex = examples[i][j]\n",
        "        plt.title(\"{} -> {}\".format(orig, adv))\n",
        "        plt.imshow(ex, cmap=\"gray\")\n",
        "plt.tight_layout()\n",
        "plt.show()\n"
      ],
      "metadata": {
        "id": "UCXRsfX1kKJS"
      },
      "execution_count": 11,
      "outputs": []
    }
  ]
}