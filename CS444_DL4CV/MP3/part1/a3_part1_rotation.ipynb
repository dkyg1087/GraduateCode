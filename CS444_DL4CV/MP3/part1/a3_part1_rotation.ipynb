{
  "cells": [
    {
      "cell_type": "markdown",
      "metadata": {
        "id": "IWMWW8Ab_345"
      },
      "source": [
        "# (Optional) Colab Setup\n",
        "If you aren't using Colab, you can delete the following code cell. This is just to help students with mounting to Google Drive to access the other .py files and downloading the data, which is a little trickier on Colab than on your local machine using Jupyter. "
      ]
    },
    {
      "cell_type": "code",
      "execution_count": null,
      "metadata": {
        "colab": {
          "base_uri": "https://localhost:8080/"
        },
        "id": "vH4wc4iD_6w_",
        "outputId": "d0503a21-4242-4eb3-8357-ab9b79426d08"
      },
      "outputs": [
        {
          "output_type": "stream",
          "name": "stdout",
          "text": [
            "Mounted at /content/drive\n"
          ]
        }
      ],
      "source": [
        "# you will be prompted with a window asking to grant permissions\n",
        "from google.colab import drive\n",
        "drive.mount(\"/content/drive\")"
      ]
    },
    {
      "cell_type": "code",
      "execution_count": null,
      "metadata": {
        "colab": {
          "base_uri": "https://localhost:8080/"
        },
        "id": "XpNsPHZc_879",
        "outputId": "d3e4dabd-de9e-4d69-a6e2-994cf1201c71"
      },
      "outputs": [
        {
          "output_type": "stream",
          "name": "stdout",
          "text": [
            "/content/drive/MyDrive/assignment3_starter/assignment3_part1\n"
          ]
        }
      ],
      "source": [
        "# fill in the path in your Google Drive in the string below. Note: do not escape slashes or spaces\n",
        "import os\n",
        "datadir = \"/content/drive/MyDrive/assignment3_starter/assignment3_part1\"\n",
        "if not os.path.exists(datadir):\n",
        "  !ln -s \"/content/drive/MyDrive/assignment3_starter/assignment3_part1\" $datadir # TODO: Fill your A3 path\n",
        "os.chdir(datadir)\n",
        "!pwd"
      ]
    },
    {
      "cell_type": "markdown",
      "metadata": {
        "id": "Um5DJvBwb6xT"
      },
      "source": [
        "#Data Setup\n",
        "\n",
        "The first thing to do is implement a dataset class to load rotated CIFAR10 images with matching labels. Since there is already a CIFAR10 dataset class implemented in `torchvision`, we will extend this class and modify the `__get_item__` method appropriately to load rotated images.\n",
        "\n",
        "Each rotation label should be an integer in the set {0, 1, 2, 3} which correspond to rotations of 0, 90, 180, or 270 degrees respectively."
      ]
    },
    {
      "cell_type": "code",
      "execution_count": null,
      "metadata": {
        "id": "oHkeNUOKiFbP"
      },
      "outputs": [],
      "source": [
        "import torch\n",
        "import torchvision\n",
        "import torchvision.transforms as transforms\n",
        "import numpy as np\n",
        "import random\n",
        "\n",
        "\n",
        "def rotate_img(img, rot):\n",
        "  if rot == 0: # 0 degrees rotation\n",
        "      return img\n",
        "  # TODO: Implement rotate_img() - return the rotated img\n",
        "  elif rot == 1:\n",
        "    transform = transforms.RandomRotation(degrees=(90,90))\n",
        "    img = transform(img)\n",
        "    return img\n",
        "  elif rot == 2:\n",
        "    transform = transforms.RandomRotation(degrees=(180,180))\n",
        "    img = transform(img)\n",
        "    return img\n",
        "  elif rot == 3:\n",
        "    transform = transforms.RandomRotation(degrees=(270,270))\n",
        "    img = transform(img)\n",
        "    return img\n",
        "  else:\n",
        "    \n",
        "    raise ValueError('rotation should be 0, 90, 180, or 270 degrees')\n",
        "    \n",
        "\n",
        "\n",
        "class CIFAR10Rotation(torchvision.datasets.CIFAR10):\n",
        "\n",
        "    def __init__(self, root, train, download, transform) -> None:\n",
        "        super().__init__(root=root, train=train, download=download, transform=transform)\n",
        "    \n",
        "    def __len__(self):\n",
        "        return len(self.data)\n",
        "    \n",
        "    def __getitem__(self, index: int):\n",
        "        image, cls_label = super().__getitem__(index)\n",
        "\n",
        "        # randomly select image rotation\n",
        "        rotation_label = random.choice([0, 1, 2, 3])\n",
        "        image_rotated = rotate_img(image, rotation_label)\n",
        "\n",
        "        rotation_label = torch.tensor(rotation_label).long()\n",
        "        return image, image_rotated, rotation_label, torch.tensor(cls_label).long()"
      ]
    },
    {
      "cell_type": "code",
      "execution_count": null,
      "metadata": {
        "colab": {
          "base_uri": "https://localhost:8080/"
        },
        "id": "CCBSpNWpb8uw",
        "outputId": "aded6c5b-8a5e-4117-972c-6b0d4035e05d"
      },
      "outputs": [
        {
          "output_type": "stream",
          "name": "stdout",
          "text": [
            "Files already downloaded and verified\n",
            "Files already downloaded and verified\n"
          ]
        }
      ],
      "source": [
        "transform_train = transforms.Compose([\n",
        "    transforms.RandomCrop(32, padding=4),\n",
        "    transforms.RandomHorizontalFlip(),\n",
        "    transforms.ToTensor(),\n",
        "    transforms.Normalize((0.4914, 0.4822, 0.4465), (0.2023, 0.1994, 0.2010)),\n",
        "])\n",
        "\n",
        "transform_test = transforms.Compose([\n",
        "    transforms.ToTensor(),\n",
        "    transforms.Normalize((0.4914, 0.4822, 0.4465), (0.2023, 0.1994, 0.2010)),\n",
        "])\n",
        "\n",
        "batch_size = 128\n",
        "\n",
        "trainset = CIFAR10Rotation(root='./data', train=True,\n",
        "                                        download=True, transform=transform_train)\n",
        "trainloader = torch.utils.data.DataLoader(trainset, batch_size=batch_size,\n",
        "                                          shuffle=True, num_workers=2)\n",
        "\n",
        "testset = CIFAR10Rotation(root='./data', train=False,\n",
        "                                       download=True, transform=transform_test)\n",
        "testloader = torch.utils.data.DataLoader(testset, batch_size=batch_size,\n",
        "                                         shuffle=False, num_workers=2)"
      ]
    },
    {
      "cell_type": "markdown",
      "metadata": {
        "id": "dOCWMyGhVOJB"
      },
      "source": [
        "Show some example images and rotated images with labels:"
      ]
    },
    {
      "cell_type": "code",
      "execution_count": null,
      "metadata": {
        "colab": {
          "base_uri": "https://localhost:8080/",
          "height": 428
        },
        "id": "A9wN4BJWVMzB",
        "outputId": "786cbb54-f225-4519-dfa9-23ecbe1f24dd"
      },
      "outputs": [
        {
          "output_type": "stream",
          "name": "stderr",
          "text": [
            "WARNING:matplotlib.image:Clipping input data to the valid range for imshow with RGB data ([0..1] for floats or [0..255] for integers).\n"
          ]
        },
        {
          "output_type": "display_data",
          "data": {
            "text/plain": [
              "<Figure size 640x480 with 1 Axes>"
            ],
            "image/png": "[encoded data removed]"
          },
          "metadata": {}
        },
        {
          "output_type": "stream",
          "name": "stderr",
          "text": [
            "WARNING:matplotlib.image:Clipping input data to the valid range for imshow with RGB data ([0..1] for floats or [0..255] for integers).\n"
          ]
        },
        {
          "output_type": "stream",
          "name": "stdout",
          "text": [
            "Class labels:  deer  deer  truck deer \n"
          ]
        },
        {
          "output_type": "display_data",
          "data": {
            "text/plain": [
              "<Figure size 640x480 with 1 Axes>"
            ],
            "image/png": "[encoded data removed]"
          },
          "metadata": {}
        },
        {
          "output_type": "stream",
          "name": "stdout",
          "text": [
            "Rotation labels:  180   0     270   0    \n"
          ]
        }
      ],
      "source": [
        "import matplotlib.pyplot as plt\n",
        "\n",
        "classes = ('plane', 'car', 'bird', 'cat',\n",
        "           'deer', 'dog', 'frog', 'horse', 'ship', 'truck')\n",
        "\n",
        "rot_classes = ('0', '90', '180', '270')\n",
        "\n",
        "\n",
        "def imshow(img):\n",
        "    # unnormalize\n",
        "    img = transforms.Normalize((0, 0, 0), (1/0.2023, 1/0.1994, 1/0.2010))(img)\n",
        "    img = transforms.Normalize((-0.4914, -0.4822, -0.4465), (1, 1, 1))(img)\n",
        "    npimg = img.numpy()\n",
        "    plt.imshow(np.transpose(npimg, (1, 2, 0)))\n",
        "    plt.show()\n",
        "\n",
        "\n",
        "dataiter = iter(trainloader)\n",
        "images, rot_images, rot_labels, labels = next(dataiter)\n",
        "\n",
        "# print images and rotated images\n",
        "img_grid = imshow(torchvision.utils.make_grid(images[:4], padding=0))\n",
        "print('Class labels: ', ' '.join(f'{classes[labels[j]]:5s}' for j in range(4)))\n",
        "img_grid = imshow(torchvision.utils.make_grid(rot_images[:4], padding=0))\n",
        "print('Rotation labels: ', ' '.join(f'{rot_classes[rot_labels[j]]:5s}' for j in range(4)))"
      ]
    },
    {
      "cell_type": "markdown",
      "metadata": {
        "id": "unCucbHexG4W"
      },
      "source": [
        "#Evaluation code"
      ]
    },
    {
      "cell_type": "code",
      "execution_count": null,
      "metadata": {
        "id": "pptQRpqK0rOl"
      },
      "outputs": [],
      "source": [
        "import time\n",
        "\n",
        "def run_test(net, testloader, criterion, task):\n",
        "    correct = 0\n",
        "    total = 0\n",
        "    avg_test_loss = 0.0\n",
        "    # since we're not training, we don't need to calculate the gradients for our outputs\n",
        "    with torch.no_grad():\n",
        "        for images, images_rotated, labels, cls_labels in testloader:\n",
        "            if task == 'rotation':\n",
        "              images, labels = images_rotated.to(device), labels.to(device)\n",
        "            elif task == 'classification':\n",
        "              images, labels = images.to(device), cls_labels.to(device)\n",
        "            # TODO: Calculate outputs by running images through the network\n",
        "            # The class with the highest energy is what we choose as prediction\n",
        "            #\n",
        "            #\n",
        "            #\n",
        "            outputs = net(images)\n",
        "            _, predicted = torch.max(outputs.data, 1)\n",
        "            total += labels.size(0)\n",
        "            correct += (predicted == labels).sum().item()\n",
        "\n",
        "            # loss\n",
        "            avg_test_loss += criterion(outputs, labels)  / len(testloader)\n",
        "    print('TESTING:')\n",
        "    print(f'Accuracy of the network on the 10000 test images: {100 * correct / total:.2f} %')\n",
        "    print(f'Average loss on the 10000 test images: {avg_test_loss:.3f}')"
      ]
    },
    {
      "cell_type": "code",
      "execution_count": null,
      "metadata": {
        "id": "hf698c16A9k5"
      },
      "outputs": [],
      "source": [
        "def adjust_learning_rate(optimizer, epoch, init_lr, decay_epochs=30):\n",
        "    \"\"\"Sets the learning rate to the initial LR decayed by 10 every 30 epochs\"\"\"\n",
        "    lr = init_lr * (0.1 ** (epoch // decay_epochs))\n",
        "    for param_group in optimizer.param_groups:\n",
        "        param_group['lr'] = lr"
      ]
    },
    {
      "cell_type": "markdown",
      "metadata": {
        "id": "3lYdnb1Wsta_"
      },
      "source": [
        "#Train a ResNet18 on the rotation task\n",
        "\n",
        "In this section, we will train a ResNet18 model on the rotation task. The input is a rotated image and the model predicts the rotation label. See the Data Setup section for details."
      ]
    },
    {
      "cell_type": "code",
      "execution_count": null,
      "metadata": {
        "colab": {
          "base_uri": "https://localhost:8080/",
          "height": 36
        },
        "id": "knAiwdURvBHk",
        "outputId": "28c8b6f3-2756-460c-f914-30efc2392eda"
      },
      "outputs": [
        {
          "output_type": "execute_result",
          "data": {
            "text/plain": [
              "'cuda'"
            ],
            "application/vnd.google.colaboratory.intrinsic+json": {
              "type": "string"
            }
          },
          "metadata": {},
          "execution_count": 8
        }
      ],
      "source": [
        "device = 'cuda' if torch.cuda.is_available() else 'cpu'\n",
        "device"
      ]
    },
    {
      "cell_type": "code",
      "execution_count": null,
      "metadata": {
        "id": "235MEIUgsv65"
      },
      "outputs": [],
      "source": [
        "import torch.nn as nn\n",
        "import torch.nn.functional as F\n",
        "\n",
        "from torchvision.models import resnet18\n",
        "\n",
        "net = resnet18(num_classes=4)\n",
        "net = net.to(device)"
      ]
    },
    {
      "cell_type": "code",
      "execution_count": null,
      "metadata": {
        "id": "Vuhiw0ZoszAd"
      },
      "outputs": [],
      "source": [
        "import torch.optim as optim\n",
        "criterion = None\n",
        "optimizer = None\n",
        "\n",
        "# TODO: Define criterion and optimizer\n",
        "#\n",
        "#\n",
        "#\n",
        "criterion = nn.CrossEntropyLoss()\n",
        "optimizer = optim.SGD(net.parameters(), lr=0.001, momentum=0.9)"
      ]
    },
    {
      "cell_type": "code",
      "execution_count": null,
      "metadata": {
        "id": "WleH-YBgs0rq"
      },
      "outputs": [],
      "source": [
        "# Both the self-supervised rotation task and supervised CIFAR10 classification are\n",
        "# trained with the CrossEntropyLoss, so we can use the training loop code.\n",
        "\n",
        "def train(net, criterion, optimizer, num_epochs, decay_epochs, init_lr, task):\n",
        "\n",
        "    for epoch in range(num_epochs):  # loop over the dataset multiple times\n",
        "\n",
        "        running_loss = 0.0\n",
        "        running_correct = 0.0\n",
        "        running_total = 0.0\n",
        "        start_time = time.time()\n",
        "\n",
        "        net = net.train()\n",
        "\n",
        "        for i, (imgs, imgs_rotated, rotation_label, cls_label) in enumerate(trainloader, 0):\n",
        "            adjust_learning_rate(optimizer, epoch, init_lr, decay_epochs)\n",
        "\n",
        "            # TODO: Set the data to the correct device; Different task will use different inputs and labels\n",
        "            #\n",
        "            if task == 'rotation':\n",
        "              imgs, labels = imgs_rotated.to(device), rotation_label.to(device)\n",
        "            elif task == 'classification':\n",
        "              imgs, labels = imgs.to(device), cls_label.to(device)\n",
        "\n",
        "            # TODO: Zero the parameter gradients\n",
        "            #\n",
        "            optimizer.zero_grad()\n",
        "\n",
        "            # TODO: forward + backward + optimize\n",
        "            #\n",
        "            #\n",
        "            #\n",
        "            #\n",
        "            #\n",
        "            optimizer.zero_grad()\n",
        "            outputs = net(imgs)\n",
        "            loss = criterion(outputs, labels)\n",
        "            loss.backward()\n",
        "            optimizer.step()\n",
        "\n",
        "            # TODO: Get predicted results\n",
        "            predicted = None\n",
        "            _, predicted = torch.max(outputs.data, 1)\n",
        "\n",
        "            # print statistics\n",
        "            print_freq = 100\n",
        "            running_loss += loss.item()\n",
        "\n",
        "            # calc acc\n",
        "            running_total += labels.size(0)\n",
        "            running_correct += (predicted == labels).sum().item()\n",
        "\n",
        "            if i % print_freq == (print_freq - 1):    # print every 2000 mini-batches\n",
        "                print(f'[{epoch + 1}, {i + 1:5d}] loss: {running_loss / print_freq:.3f} acc: {100*running_correct / running_total:.2f} time: {time.time() - start_time:.2f}')\n",
        "                running_loss, running_correct, running_total = 0.0, 0.0, 0.0\n",
        "                start_time = time.time()\n",
        "\n",
        "        # TODO: Run the run_test() function after each epoch; Set the model to the evaluation mode.\n",
        "        #\n",
        "        #\n",
        "        net.eval()\n",
        "        run_test(net, testloader, criterion, task)\n",
        "\n",
        "    print('Finished Training')"
      ]
    },
    {
      "cell_type": "code",
      "execution_count": null,
      "metadata": {
        "colab": {
          "base_uri": "https://localhost:8080/"
        },
        "id": "2u4AsfAKtaQS",
        "outputId": "9cc785fd-e363-43a8-80f8-44691d97db53"
      },
      "outputs": [
        {
          "output_type": "stream",
          "name": "stdout",
          "text": [
            "[1,   100] loss: 0.730 acc: 70.62 time: 5.29\n",
            "[1,   200] loss: 0.747 acc: 69.98 time: 5.09\n",
            "[1,   300] loss: 0.745 acc: 70.32 time: 5.34\n",
            "TESTING:\n",
            "Accuracy of the network on the 10000 test images: 72.13 %\n",
            "Average loss on the 10000 test images: 0.696\n",
            "[2,   100] loss: 0.746 acc: 69.97 time: 5.26\n",
            "[2,   200] loss: 0.736 acc: 70.54 time: 5.05\n",
            "[2,   300] loss: 0.735 acc: 70.77 time: 5.12\n",
            "TESTING:\n",
            "Accuracy of the network on the 10000 test images: 71.68 %\n",
            "Average loss on the 10000 test images: 0.703\n",
            "[3,   100] loss: 0.741 acc: 70.47 time: 5.49\n",
            "[3,   200] loss: 0.728 acc: 70.65 time: 5.28\n",
            "[3,   300] loss: 0.718 acc: 71.43 time: 5.07\n",
            "TESTING:\n",
            "Accuracy of the network on the 10000 test images: 71.82 %\n",
            "Average loss on the 10000 test images: 0.710\n",
            "[4,   100] loss: 0.735 acc: 70.37 time: 5.40\n",
            "[4,   200] loss: 0.712 acc: 71.35 time: 5.30\n",
            "[4,   300] loss: 0.717 acc: 71.18 time: 5.22\n",
            "TESTING:\n",
            "Accuracy of the network on the 10000 test images: 72.62 %\n",
            "Average loss on the 10000 test images: 0.686\n",
            "[5,   100] loss: 0.718 acc: 71.50 time: 5.40\n",
            "[5,   200] loss: 0.702 acc: 71.93 time: 5.30\n",
            "[5,   300] loss: 0.707 acc: 71.64 time: 5.14\n",
            "TESTING:\n",
            "Accuracy of the network on the 10000 test images: 72.84 %\n",
            "Average loss on the 10000 test images: 0.685\n",
            "[6,   100] loss: 0.705 acc: 71.73 time: 5.36\n",
            "[6,   200] loss: 0.690 acc: 72.45 time: 5.15\n",
            "[6,   300] loss: 0.713 acc: 71.41 time: 5.07\n",
            "TESTING:\n",
            "Accuracy of the network on the 10000 test images: 72.96 %\n",
            "Average loss on the 10000 test images: 0.688\n",
            "[7,   100] loss: 0.695 acc: 72.27 time: 5.31\n",
            "[7,   200] loss: 0.697 acc: 72.45 time: 5.17\n",
            "[7,   300] loss: 0.696 acc: 72.48 time: 5.13\n",
            "TESTING:\n",
            "Accuracy of the network on the 10000 test images: 71.92 %\n",
            "Average loss on the 10000 test images: 0.700\n",
            "[8,   100] loss: 0.706 acc: 71.55 time: 5.32\n",
            "[8,   200] loss: 0.684 acc: 72.55 time: 5.22\n",
            "[8,   300] loss: 0.665 acc: 73.26 time: 5.10\n",
            "TESTING:\n",
            "Accuracy of the network on the 10000 test images: 74.05 %\n",
            "Average loss on the 10000 test images: 0.660\n",
            "[9,   100] loss: 0.686 acc: 72.54 time: 5.34\n",
            "[9,   200] loss: 0.671 acc: 73.10 time: 5.13\n",
            "[9,   300] loss: 0.683 acc: 72.24 time: 5.18\n",
            "TESTING:\n",
            "Accuracy of the network on the 10000 test images: 74.17 %\n",
            "Average loss on the 10000 test images: 0.648\n",
            "[10,   100] loss: 0.674 acc: 72.96 time: 5.31\n",
            "[10,   200] loss: 0.666 acc: 73.89 time: 5.18\n",
            "[10,   300] loss: 0.670 acc: 73.79 time: 5.16\n",
            "TESTING:\n",
            "Accuracy of the network on the 10000 test images: 73.97 %\n",
            "Average loss on the 10000 test images: 0.655\n",
            "[11,   100] loss: 0.672 acc: 73.41 time: 5.36\n",
            "[11,   200] loss: 0.655 acc: 74.17 time: 5.22\n",
            "[11,   300] loss: 0.671 acc: 73.63 time: 5.35\n",
            "TESTING:\n",
            "Accuracy of the network on the 10000 test images: 74.73 %\n",
            "Average loss on the 10000 test images: 0.629\n",
            "[12,   100] loss: 0.654 acc: 74.06 time: 5.29\n",
            "[12,   200] loss: 0.650 acc: 74.27 time: 5.23\n",
            "[12,   300] loss: 0.656 acc: 74.00 time: 5.26\n",
            "TESTING:\n",
            "Accuracy of the network on the 10000 test images: 74.74 %\n",
            "Average loss on the 10000 test images: 0.635\n",
            "[13,   100] loss: 0.653 acc: 74.11 time: 5.32\n",
            "[13,   200] loss: 0.639 acc: 75.16 time: 5.18\n",
            "[13,   300] loss: 0.647 acc: 74.30 time: 5.20\n",
            "TESTING:\n",
            "Accuracy of the network on the 10000 test images: 73.48 %\n",
            "Average loss on the 10000 test images: 0.662\n",
            "[14,   100] loss: 0.652 acc: 73.66 time: 5.41\n",
            "[14,   200] loss: 0.642 acc: 74.63 time: 5.20\n",
            "[14,   300] loss: 0.640 acc: 74.72 time: 5.19\n",
            "TESTING:\n",
            "Accuracy of the network on the 10000 test images: 75.20 %\n",
            "Average loss on the 10000 test images: 0.634\n",
            "[15,   100] loss: 0.634 acc: 75.01 time: 5.57\n",
            "[15,   200] loss: 0.634 acc: 75.08 time: 5.17\n",
            "[15,   300] loss: 0.650 acc: 74.60 time: 5.10\n",
            "TESTING:\n",
            "Accuracy of the network on the 10000 test images: 74.55 %\n",
            "Average loss on the 10000 test images: 0.649\n",
            "[16,   100] loss: 0.622 acc: 75.59 time: 5.53\n",
            "[16,   200] loss: 0.608 acc: 75.84 time: 5.33\n",
            "[16,   300] loss: 0.600 acc: 76.54 time: 5.24\n",
            "TESTING:\n",
            "Accuracy of the network on the 10000 test images: 77.35 %\n",
            "Average loss on the 10000 test images: 0.572\n",
            "[17,   100] loss: 0.581 acc: 77.27 time: 5.31\n",
            "[17,   200] loss: 0.598 acc: 77.05 time: 5.09\n",
            "[17,   300] loss: 0.580 acc: 77.26 time: 5.14\n",
            "TESTING:\n",
            "Accuracy of the network on the 10000 test images: 77.39 %\n",
            "Average loss on the 10000 test images: 0.566\n",
            "[18,   100] loss: 0.581 acc: 76.87 time: 5.37\n",
            "[18,   200] loss: 0.571 acc: 77.84 time: 5.13\n",
            "[18,   300] loss: 0.586 acc: 76.73 time: 5.25\n",
            "TESTING:\n",
            "Accuracy of the network on the 10000 test images: 77.58 %\n",
            "Average loss on the 10000 test images: 0.560\n",
            "[19,   100] loss: 0.582 acc: 76.74 time: 5.37\n",
            "[19,   200] loss: 0.569 acc: 77.82 time: 5.31\n",
            "[19,   300] loss: 0.565 acc: 77.63 time: 5.19\n",
            "TESTING:\n",
            "Accuracy of the network on the 10000 test images: 77.67 %\n",
            "Average loss on the 10000 test images: 0.562\n",
            "[20,   100] loss: 0.571 acc: 77.32 time: 5.56\n",
            "[20,   200] loss: 0.563 acc: 78.10 time: 5.32\n",
            "[20,   300] loss: 0.568 acc: 77.88 time: 5.13\n",
            "TESTING:\n",
            "Accuracy of the network on the 10000 test images: 77.90 %\n",
            "Average loss on the 10000 test images: 0.561\n",
            "[21,   100] loss: 0.568 acc: 77.50 time: 5.39\n",
            "[21,   200] loss: 0.567 acc: 77.79 time: 5.26\n",
            "[21,   300] loss: 0.567 acc: 77.78 time: 5.30\n",
            "TESTING:\n",
            "Accuracy of the network on the 10000 test images: 77.60 %\n",
            "Average loss on the 10000 test images: 0.561\n",
            "[22,   100] loss: 0.560 acc: 78.36 time: 5.65\n",
            "[22,   200] loss: 0.561 acc: 78.02 time: 5.26\n",
            "[22,   300] loss: 0.575 acc: 77.26 time: 5.16\n",
            "TESTING:\n",
            "Accuracy of the network on the 10000 test images: 77.93 %\n",
            "Average loss on the 10000 test images: 0.554\n",
            "[23,   100] loss: 0.570 acc: 77.64 time: 5.39\n",
            "[23,   200] loss: 0.575 acc: 77.62 time: 5.16\n",
            "[23,   300] loss: 0.560 acc: 78.18 time: 5.13\n",
            "TESTING:\n",
            "Accuracy of the network on the 10000 test images: 78.29 %\n",
            "Average loss on the 10000 test images: 0.558\n",
            "[24,   100] loss: 0.560 acc: 78.23 time: 5.72\n",
            "[24,   200] loss: 0.562 acc: 78.20 time: 5.41\n",
            "[24,   300] loss: 0.557 acc: 78.08 time: 5.21\n",
            "TESTING:\n",
            "Accuracy of the network on the 10000 test images: 78.26 %\n",
            "Average loss on the 10000 test images: 0.556\n",
            "[25,   100] loss: 0.541 acc: 78.84 time: 5.43\n",
            "[25,   200] loss: 0.557 acc: 78.48 time: 5.41\n",
            "[25,   300] loss: 0.566 acc: 77.80 time: 5.18\n",
            "TESTING:\n",
            "Accuracy of the network on the 10000 test images: 77.64 %\n",
            "Average loss on the 10000 test images: 0.553\n",
            "[26,   100] loss: 0.554 acc: 78.53 time: 5.60\n",
            "[26,   200] loss: 0.552 acc: 78.80 time: 5.30\n",
            "[26,   300] loss: 0.557 acc: 78.30 time: 5.21\n",
            "TESTING:\n",
            "Accuracy of the network on the 10000 test images: 78.27 %\n",
            "Average loss on the 10000 test images: 0.547\n",
            "[27,   100] loss: 0.553 acc: 78.17 time: 5.43\n",
            "[27,   200] loss: 0.549 acc: 78.45 time: 5.21\n",
            "[27,   300] loss: 0.553 acc: 78.57 time: 5.41\n",
            "TESTING:\n",
            "Accuracy of the network on the 10000 test images: 78.20 %\n",
            "Average loss on the 10000 test images: 0.548\n",
            "[28,   100] loss: 0.562 acc: 77.89 time: 5.32\n",
            "[28,   200] loss: 0.554 acc: 78.06 time: 5.31\n",
            "[28,   300] loss: 0.549 acc: 78.54 time: 5.18\n",
            "TESTING:\n",
            "Accuracy of the network on the 10000 test images: 78.43 %\n",
            "Average loss on the 10000 test images: 0.550\n",
            "[29,   100] loss: 0.554 acc: 78.42 time: 5.37\n",
            "[29,   200] loss: 0.551 acc: 78.56 time: 5.11\n",
            "[29,   300] loss: 0.541 acc: 78.62 time: 5.29\n",
            "TESTING:\n",
            "Accuracy of the network on the 10000 test images: 78.37 %\n",
            "Average loss on the 10000 test images: 0.550\n",
            "[30,   100] loss: 0.561 acc: 78.00 time: 5.44\n",
            "[30,   200] loss: 0.554 acc: 78.51 time: 5.28\n",
            "[30,   300] loss: 0.557 acc: 78.41 time: 5.22\n",
            "TESTING:\n",
            "Accuracy of the network on the 10000 test images: 78.46 %\n",
            "Average loss on the 10000 test images: 0.551\n",
            "[31,   100] loss: 0.545 acc: 78.48 time: 5.40\n",
            "[31,   200] loss: 0.544 acc: 78.62 time: 5.18\n",
            "[31,   300] loss: 0.548 acc: 78.67 time: 5.35\n",
            "TESTING:\n",
            "Accuracy of the network on the 10000 test images: 78.56 %\n",
            "Average loss on the 10000 test images: 0.542\n",
            "[32,   100] loss: 0.541 acc: 79.33 time: 5.54\n",
            "[32,   200] loss: 0.547 acc: 78.52 time: 5.16\n",
            "[32,   300] loss: 0.554 acc: 78.24 time: 5.27\n",
            "TESTING:\n",
            "Accuracy of the network on the 10000 test images: 78.28 %\n",
            "Average loss on the 10000 test images: 0.544\n",
            "[33,   100] loss: 0.540 acc: 78.96 time: 5.48\n",
            "[33,   200] loss: 0.552 acc: 78.34 time: 5.36\n",
            "[33,   300] loss: 0.541 acc: 78.55 time: 5.43\n",
            "TESTING:\n",
            "Accuracy of the network on the 10000 test images: 78.29 %\n",
            "Average loss on the 10000 test images: 0.540\n",
            "[34,   100] loss: 0.537 acc: 79.14 time: 5.38\n",
            "[34,   200] loss: 0.548 acc: 78.32 time: 5.15\n",
            "[34,   300] loss: 0.547 acc: 78.38 time: 5.13\n",
            "TESTING:\n",
            "Accuracy of the network on the 10000 test images: 78.46 %\n",
            "Average loss on the 10000 test images: 0.540\n",
            "[35,   100] loss: 0.547 acc: 78.64 time: 5.71\n",
            "[35,   200] loss: 0.546 acc: 78.41 time: 5.63\n",
            "[35,   300] loss: 0.542 acc: 78.87 time: 5.27\n",
            "TESTING:\n",
            "Accuracy of the network on the 10000 test images: 78.36 %\n",
            "Average loss on the 10000 test images: 0.540\n",
            "[36,   100] loss: 0.544 acc: 78.71 time: 5.35\n",
            "[36,   200] loss: 0.553 acc: 78.44 time: 5.11\n",
            "[36,   300] loss: 0.542 acc: 78.65 time: 5.23\n",
            "TESTING:\n",
            "Accuracy of the network on the 10000 test images: 78.47 %\n",
            "Average loss on the 10000 test images: 0.541\n",
            "[37,   100] loss: 0.537 acc: 79.35 time: 5.36\n",
            "[37,   200] loss: 0.545 acc: 78.70 time: 5.10\n",
            "[37,   300] loss: 0.551 acc: 78.19 time: 5.15\n",
            "TESTING:\n",
            "Accuracy of the network on the 10000 test images: 78.16 %\n",
            "Average loss on the 10000 test images: 0.544\n",
            "[38,   100] loss: 0.549 acc: 77.96 time: 5.35\n",
            "[38,   200] loss: 0.549 acc: 78.70 time: 5.16\n",
            "[38,   300] loss: 0.544 acc: 78.69 time: 5.24\n",
            "TESTING:\n",
            "Accuracy of the network on the 10000 test images: 78.41 %\n",
            "Average loss on the 10000 test images: 0.546\n",
            "[39,   100] loss: 0.541 acc: 78.43 time: 5.32\n",
            "[39,   200] loss: 0.544 acc: 78.70 time: 5.11\n",
            "[39,   300] loss: 0.548 acc: 78.72 time: 5.20\n",
            "TESTING:\n",
            "Accuracy of the network on the 10000 test images: 78.37 %\n",
            "Average loss on the 10000 test images: 0.542\n",
            "[40,   100] loss: 0.557 acc: 78.01 time: 5.36\n",
            "[40,   200] loss: 0.548 acc: 78.48 time: 5.17\n",
            "[40,   300] loss: 0.525 acc: 79.51 time: 5.16\n",
            "TESTING:\n",
            "Accuracy of the network on the 10000 test images: 78.65 %\n",
            "Average loss on the 10000 test images: 0.542\n",
            "[41,   100] loss: 0.540 acc: 78.74 time: 5.37\n",
            "[41,   200] loss: 0.549 acc: 78.57 time: 5.21\n",
            "[41,   300] loss: 0.540 acc: 78.73 time: 5.26\n",
            "TESTING:\n",
            "Accuracy of the network on the 10000 test images: 78.49 %\n",
            "Average loss on the 10000 test images: 0.543\n",
            "[42,   100] loss: 0.546 acc: 78.48 time: 5.37\n",
            "[42,   200] loss: 0.548 acc: 78.63 time: 5.08\n",
            "[42,   300] loss: 0.536 acc: 79.16 time: 5.12\n",
            "TESTING:\n",
            "Accuracy of the network on the 10000 test images: 78.37 %\n",
            "Average loss on the 10000 test images: 0.549\n",
            "[43,   100] loss: 0.557 acc: 78.14 time: 5.37\n",
            "[43,   200] loss: 0.543 acc: 79.02 time: 5.25\n",
            "[43,   300] loss: 0.533 acc: 79.27 time: 5.17\n",
            "TESTING:\n",
            "Accuracy of the network on the 10000 test images: 78.13 %\n",
            "Average loss on the 10000 test images: 0.547\n",
            "[44,   100] loss: 0.544 acc: 78.84 time: 5.30\n",
            "[44,   200] loss: 0.539 acc: 78.85 time: 5.09\n",
            "[44,   300] loss: 0.533 acc: 79.12 time: 5.14\n",
            "TESTING:\n",
            "Accuracy of the network on the 10000 test images: 78.46 %\n",
            "Average loss on the 10000 test images: 0.535\n",
            "[45,   100] loss: 0.545 acc: 78.61 time: 5.28\n",
            "[45,   200] loss: 0.543 acc: 78.54 time: 5.15\n",
            "[45,   300] loss: 0.540 acc: 79.05 time: 5.16\n",
            "TESTING:\n",
            "Accuracy of the network on the 10000 test images: 78.73 %\n",
            "Average loss on the 10000 test images: 0.537\n",
            "Finished Training\n"
          ]
        }
      ],
      "source": [
        "train(net, criterion, optimizer, num_epochs=45, decay_epochs=15, init_lr=0.01, task='rotation')\n",
        "\n",
        "# TODO: Save the model\n",
        "#\n",
        "\n",
        "#PATH = 'res_net1.pth'\n",
        "#torch.save(net.state_dict(), PATH)"
      ]
    },
    {
      "cell_type": "code",
      "source": [
        "PATH = 'res_net1.pth'\n",
        "torch.save(net.state_dict(), PATH)"
      ],
      "metadata": {
        "id": "whv4OtmbZDDl"
      },
      "execution_count": null,
      "outputs": []
    },
    {
      "cell_type": "markdown",
      "metadata": {
        "id": "PLLMRTS9rTnk"
      },
      "source": [
        "##Fine-tuning on the pre-trained model\n",
        "\n",
        "In this section, we will load the pre-trained ResNet18 model and fine-tune on the classification task. We will freeze all previous layers except for the 'layer4' block and 'fc' layer."
      ]
    },
    {
      "cell_type": "code",
      "execution_count": null,
      "metadata": {
        "id": "S4nX4ExlrymI"
      },
      "outputs": [],
      "source": [
        "import torch.nn as nn\n",
        "import torch.nn.functional as F\n",
        "\n",
        "from torchvision.models import resnet18\n",
        "\n",
        "# TODO: Load the pre-trained ResNet18 model\n",
        "#\n",
        "#\n",
        "#\n",
        "net = resnet18(num_classes = 4)\n",
        "net.load_state_dict(torch.load('res_net1.pth'))\n",
        "net = net.to(device)\n",
        "\n"
      ]
    },
    {
      "cell_type": "code",
      "execution_count": null,
      "metadata": {
        "id": "kD44g-TxwYdU"
      },
      "outputs": [],
      "source": [
        "# TODO: Freeze all previous layers; only keep the 'layer4' block and 'fc' layer trainable\n",
        "#\n",
        "#\n",
        "#\n",
        "#\n",
        "net.fc = nn.Linear(512, 10)\n",
        "net = net.to(device)\n",
        "for name, para in net.named_parameters():\n",
        "  para.requires_grad = False\n",
        "  if \"layer4\" in name or \"fc\" in name:\n",
        "    para.requires_grad = True\n",
        "  "
      ]
    },
    {
      "cell_type": "code",
      "execution_count": null,
      "metadata": {
        "colab": {
          "base_uri": "https://localhost:8080/"
        },
        "id": "9T5DX0efr4fh",
        "outputId": "e5fd1a99-ac85-4aee-a91a-28a611d6e356"
      },
      "outputs": [
        {
          "output_type": "stream",
          "name": "stdout",
          "text": [
            "Params to learn:\n",
            "\t layer4.0.conv1.weight\n",
            "\t layer4.0.bn1.weight\n",
            "\t layer4.0.bn1.bias\n",
            "\t layer4.0.conv2.weight\n",
            "\t layer4.0.bn2.weight\n",
            "\t layer4.0.bn2.bias\n",
            "\t layer4.0.downsample.0.weight\n",
            "\t layer4.0.downsample.1.weight\n",
            "\t layer4.0.downsample.1.bias\n",
            "\t layer4.1.conv1.weight\n",
            "\t layer4.1.bn1.weight\n",
            "\t layer4.1.bn1.bias\n",
            "\t layer4.1.conv2.weight\n",
            "\t layer4.1.bn2.weight\n",
            "\t layer4.1.bn2.bias\n",
            "\t fc.weight\n",
            "\t fc.bias\n"
          ]
        }
      ],
      "source": [
        "# Print all the trainable parameters\n",
        "params_to_update = net.parameters()\n",
        "print(\"Params to learn:\")\n",
        "params_to_update = []\n",
        "for name,param in net.named_parameters():\n",
        "    if param.requires_grad == True:\n",
        "        params_to_update.append(param)\n",
        "        print(\"\\t\",name)"
      ]
    },
    {
      "cell_type": "code",
      "execution_count": null,
      "metadata": {
        "id": "xb032dG700ph"
      },
      "outputs": [],
      "source": [
        "import torch.optim as optim\n",
        "# TODO: Define criterion and optimizer\n",
        "# Note that your optimizer only needs to update the parameters that are trainable.\n",
        "criterion = nn.CrossEntropyLoss()\n",
        "optimizer = optim.SGD(net.parameters(), lr=0.001, momentum=0.9)"
      ]
    },
    {
      "cell_type": "code",
      "execution_count": null,
      "metadata": {
        "colab": {
          "base_uri": "https://localhost:8080/"
        },
        "id": "3vLSwOo6sBjl",
        "outputId": "9c0904d5-dd87-49f0-bba0-7df7352f10dc"
      },
      "outputs": [
        {
          "output_type": "stream",
          "name": "stderr",
          "text": [
            "Exception ignored in: <function _MultiProcessingDataLoaderIter.__del__ at 0x7fa5ae1ca040>\n",
            "Traceback (most recent call last):\n",
            "  File \"/usr/local/lib/python3.9/dist-packages/torch/utils/data/dataloader.py\", line 1466, in __del__\n",
            "    self._shutdown_workers()\n",
            "  File \"/usr/local/lib/python3.9/dist-packages/torch/utils/data/dataloader.py\", line 1449, in _shutdown_workers\n",
            "    if w.is_alive():\n",
            "  File \"/usr/lib/python3.9/multiprocessing/process.py\", line 160, in is_alive\n",
            "    assert self._parent_pid == os.getpid(), 'can only test a child process'\n",
            "Exception ignored in: AssertionError: <function _MultiProcessingDataLoaderIter.__del__ at 0x7fa5ae1ca040>can only test a child process\n",
            "\n",
            "Traceback (most recent call last):\n",
            "  File \"/usr/local/lib/python3.9/dist-packages/torch/utils/data/dataloader.py\", line 1466, in __del__\n",
            "    self._shutdown_workers()\n",
            "  File \"/usr/local/lib/python3.9/dist-packages/torch/utils/data/dataloader.py\", line 1449, in _shutdown_workers\n",
            "    if w.is_alive():\n",
            "  File \"/usr/lib/python3.9/multiprocessing/process.py\", line 160, in is_alive\n",
            "    assert self._parent_pid == os.getpid(), 'can only test a child process'\n",
            "AssertionError: can only test a child process\n"
          ]
        },
        {
          "output_type": "stream",
          "name": "stdout",
          "text": [
            "[1,   100] loss: 1.681 acc: 40.33 time: 9.12\n",
            "[1,   200] loss: 1.336 acc: 51.71 time: 9.84\n",
            "[1,   300] loss: 1.259 acc: 54.27 time: 9.50\n"
          ]
        },
        {
          "output_type": "stream",
          "name": "stderr",
          "text": [
            "Exception ignored in: <function _MultiProcessingDataLoaderIter.__del__ at 0x7fa5ae1ca040>\n",
            "Traceback (most recent call last):\n",
            "Exception ignored in:   File \"/usr/local/lib/python3.9/dist-packages/torch/utils/data/dataloader.py\", line 1466, in __del__\n",
            "<function _MultiProcessingDataLoaderIter.__del__ at 0x7fa5ae1ca040>    \n",
            "self._shutdown_workers()\n",
            "Traceback (most recent call last):\n",
            "  File \"/usr/local/lib/python3.9/dist-packages/torch/utils/data/dataloader.py\", line 1466, in __del__\n",
            "      File \"/usr/local/lib/python3.9/dist-packages/torch/utils/data/dataloader.py\", line 1449, in _shutdown_workers\n",
            "self._shutdown_workers()    \n",
            "if w.is_alive():\n",
            "  File \"/usr/local/lib/python3.9/dist-packages/torch/utils/data/dataloader.py\", line 1449, in _shutdown_workers\n",
            "  File \"/usr/lib/python3.9/multiprocessing/process.py\", line 160, in is_alive\n",
            "        if w.is_alive():assert self._parent_pid == os.getpid(), 'can only test a child process'\n",
            "\n",
            "  File \"/usr/lib/python3.9/multiprocessing/process.py\", line 160, in is_alive\n",
            "AssertionError    assert self._parent_pid == os.getpid(), 'can only test a child process'\n",
            ": AssertionError: can only test a child processcan only test a child process\n",
            "\n"
          ]
        },
        {
          "output_type": "stream",
          "name": "stdout",
          "text": [
            "TESTING:\n",
            "Accuracy of the network on the 10000 test images: 59.55 %\n",
            "Average loss on the 10000 test images: 1.135\n"
          ]
        },
        {
          "output_type": "stream",
          "name": "stderr",
          "text": [
            "Exception ignored in: <function _MultiProcessingDataLoaderIter.__del__ at 0x7fa5ae1ca040>\n",
            "Traceback (most recent call last):\n",
            "  File \"/usr/local/lib/python3.9/dist-packages/torch/utils/data/dataloader.py\", line 1466, in __del__\n",
            "Exception ignored in:     <function _MultiProcessingDataLoaderIter.__del__ at 0x7fa5ae1ca040>\n",
            "self._shutdown_workers()Traceback (most recent call last):\n",
            "  File \"/usr/local/lib/python3.9/dist-packages/torch/utils/data/dataloader.py\", line 1466, in __del__\n",
            "    self._shutdown_workers()\n",
            "\n",
            "  File \"/usr/local/lib/python3.9/dist-packages/torch/utils/data/dataloader.py\", line 1449, in _shutdown_workers\n",
            "    if w.is_alive():\n",
            "  File \"/usr/local/lib/python3.9/dist-packages/torch/utils/data/dataloader.py\", line 1449, in _shutdown_workers\n",
            "  File \"/usr/lib/python3.9/multiprocessing/process.py\", line 160, in is_alive\n",
            "    if w.is_alive():    \n",
            "assert self._parent_pid == os.getpid(), 'can only test a child process'  File \"/usr/lib/python3.9/multiprocessing/process.py\", line 160, in is_alive\n",
            "    \n",
            "assert self._parent_pid == os.getpid(), 'can only test a child process'\n",
            "AssertionError: can only test a child process\n",
            "AssertionError: can only test a child process\n"
          ]
        },
        {
          "output_type": "stream",
          "name": "stdout",
          "text": [
            "[2,   100] loss: 1.190 acc: 57.25 time: 8.67\n",
            "[2,   200] loss: 1.175 acc: 57.98 time: 9.96\n",
            "[2,   300] loss: 1.168 acc: 58.47 time: 9.92\n"
          ]
        },
        {
          "output_type": "stream",
          "name": "stderr",
          "text": [
            "Exception ignored in: <function _MultiProcessingDataLoaderIter.__del__ at 0x7fa5ae1ca040>\n",
            "Traceback (most recent call last):\n",
            "Exception ignored in: <function _MultiProcessingDataLoaderIter.__del__ at 0x7fa5ae1ca040>  File \"/usr/local/lib/python3.9/dist-packages/torch/utils/data/dataloader.py\", line 1466, in __del__\n",
            "    \n",
            "self._shutdown_workers()Traceback (most recent call last):\n",
            "\n",
            "  File \"/usr/local/lib/python3.9/dist-packages/torch/utils/data/dataloader.py\", line 1466, in __del__\n",
            "  File \"/usr/local/lib/python3.9/dist-packages/torch/utils/data/dataloader.py\", line 1449, in _shutdown_workers\n",
            "        self._shutdown_workers()if w.is_alive():\n",
            "\n",
            "  File \"/usr/local/lib/python3.9/dist-packages/torch/utils/data/dataloader.py\", line 1449, in _shutdown_workers\n",
            "  File \"/usr/lib/python3.9/multiprocessing/process.py\", line 160, in is_alive\n",
            "        if w.is_alive():assert self._parent_pid == os.getpid(), 'can only test a child process'\n",
            "  File \"/usr/lib/python3.9/multiprocessing/process.py\", line 160, in is_alive\n",
            "    assert self._parent_pid == os.getpid(), 'can only test a child process'\n",
            "\n",
            "AssertionError: can only test a child process\n",
            "AssertionError: can only test a child process\n"
          ]
        },
        {
          "output_type": "stream",
          "name": "stdout",
          "text": [
            "TESTING:\n",
            "Accuracy of the network on the 10000 test images: 61.03 %\n",
            "Average loss on the 10000 test images: 1.126\n"
          ]
        },
        {
          "output_type": "stream",
          "name": "stderr",
          "text": [
            "Exception ignored in: <function _MultiProcessingDataLoaderIter.__del__ at 0x7fa5ae1ca040>\n",
            "Exception ignored in: Traceback (most recent call last):\n",
            "<function _MultiProcessingDataLoaderIter.__del__ at 0x7fa5ae1ca040>\n",
            "Traceback (most recent call last):\n",
            "  File \"/usr/local/lib/python3.9/dist-packages/torch/utils/data/dataloader.py\", line 1466, in __del__\n",
            "      File \"/usr/local/lib/python3.9/dist-packages/torch/utils/data/dataloader.py\", line 1466, in __del__\n",
            "    self._shutdown_workers()\n",
            "  File \"/usr/local/lib/python3.9/dist-packages/torch/utils/data/dataloader.py\", line 1449, in _shutdown_workers\n",
            "    if w.is_alive():can only test a child process: self._shutdown_workers()\n",
            "\n",
            "  File \"/usr/lib/python3.9/multiprocessing/process.py\", line 160, in is_alive\n",
            "    assert self._parent_pid == os.getpid(), 'can only test a child process'\n",
            "AssertionError\n",
            "  File \"/usr/local/lib/python3.9/dist-packages/torch/utils/data/dataloader.py\", line 1449, in _shutdown_workers\n",
            "    if w.is_alive():\n",
            "  File \"/usr/lib/python3.9/multiprocessing/process.py\", line 160, in is_alive\n",
            "    assert self._parent_pid == os.getpid(), 'can only test a child process'\n",
            "AssertionError: can only test a child process\n"
          ]
        },
        {
          "output_type": "stream",
          "name": "stdout",
          "text": [
            "[3,   100] loss: 1.150 acc: 58.05 time: 8.82\n",
            "[3,   200] loss: 1.104 acc: 60.80 time: 9.85\n",
            "[3,   300] loss: 1.133 acc: 59.55 time: 9.85\n"
          ]
        },
        {
          "output_type": "stream",
          "name": "stderr",
          "text": [
            "Exception ignored in: <function _MultiProcessingDataLoaderIter.__del__ at 0x7fa5ae1ca040>\n",
            "Traceback (most recent call last):\n",
            "  File \"/usr/local/lib/python3.9/dist-packages/torch/utils/data/dataloader.py\", line 1466, in __del__\n",
            "    self._shutdown_workers()\n",
            "  File \"/usr/local/lib/python3.9/dist-packages/torch/utils/data/dataloader.py\", line 1449, in _shutdown_workers\n",
            "    if w.is_alive():\n",
            "  File \"/usr/lib/python3.9/multiprocessing/process.py\", line 160, in is_alive\n",
            "Exception ignored in:     <function _MultiProcessingDataLoaderIter.__del__ at 0x7fa5ae1ca040>assert self._parent_pid == os.getpid(), 'can only test a child process'\n",
            "\n",
            "Traceback (most recent call last):\n",
            "AssertionError  File \"/usr/local/lib/python3.9/dist-packages/torch/utils/data/dataloader.py\", line 1466, in __del__\n",
            ":     can only test a child processself._shutdown_workers()\n",
            "\n",
            "  File \"/usr/local/lib/python3.9/dist-packages/torch/utils/data/dataloader.py\", line 1449, in _shutdown_workers\n",
            "    if w.is_alive():\n",
            "  File \"/usr/lib/python3.9/multiprocessing/process.py\", line 160, in is_alive\n",
            "    assert self._parent_pid == os.getpid(), 'can only test a child process'\n",
            "AssertionError: can only test a child process\n"
          ]
        },
        {
          "output_type": "stream",
          "name": "stdout",
          "text": [
            "TESTING:\n",
            "Accuracy of the network on the 10000 test images: 62.31 %\n",
            "Average loss on the 10000 test images: 1.064\n"
          ]
        },
        {
          "output_type": "stream",
          "name": "stderr",
          "text": [
            "Exception ignored in: <function _MultiProcessingDataLoaderIter.__del__ at 0x7fa5ae1ca040>\n",
            "Traceback (most recent call last):\n",
            "Exception ignored in: <function _MultiProcessingDataLoaderIter.__del__ at 0x7fa5ae1ca040>  File \"/usr/local/lib/python3.9/dist-packages/torch/utils/data/dataloader.py\", line 1466, in __del__\n",
            "    \n",
            "\n",
            "self._shutdown_workers()Traceback (most recent call last):\n",
            "  File \"/usr/local/lib/python3.9/dist-packages/torch/utils/data/dataloader.py\", line 1466, in __del__\n",
            "  File \"/usr/local/lib/python3.9/dist-packages/torch/utils/data/dataloader.py\", line 1449, in _shutdown_workers\n",
            "    self._shutdown_workers()\n",
            "      File \"/usr/local/lib/python3.9/dist-packages/torch/utils/data/dataloader.py\", line 1449, in _shutdown_workers\n",
            "if w.is_alive():    \n",
            "if w.is_alive():  File \"/usr/lib/python3.9/multiprocessing/process.py\", line 160, in is_alive\n",
            "    \n",
            "  File \"/usr/lib/python3.9/multiprocessing/process.py\", line 160, in is_alive\n",
            "assert self._parent_pid == os.getpid(), 'can only test a child process'\n",
            "AssertionError    : assert self._parent_pid == os.getpid(), 'can only test a child process'can only test a child process\n",
            "\n",
            "AssertionError: can only test a child process\n"
          ]
        },
        {
          "output_type": "stream",
          "name": "stdout",
          "text": [
            "[4,   100] loss: 1.077 acc: 61.74 time: 9.42\n",
            "[4,   200] loss: 1.078 acc: 61.78 time: 9.15\n",
            "[4,   300] loss: 1.093 acc: 60.81 time: 9.84\n"
          ]
        },
        {
          "output_type": "stream",
          "name": "stderr",
          "text": [
            "Exception ignored in: Exception ignored in: <function _MultiProcessingDataLoaderIter.__del__ at 0x7fa5ae1ca040><function _MultiProcessingDataLoaderIter.__del__ at 0x7fa5ae1ca040>\n",
            "Traceback (most recent call last):\n",
            "\n",
            "  File \"/usr/local/lib/python3.9/dist-packages/torch/utils/data/dataloader.py\", line 1466, in __del__\n",
            "Traceback (most recent call last):\n",
            "      File \"/usr/local/lib/python3.9/dist-packages/torch/utils/data/dataloader.py\", line 1466, in __del__\n",
            "self._shutdown_workers()\n",
            "    self._shutdown_workers()\n",
            "  File \"/usr/local/lib/python3.9/dist-packages/torch/utils/data/dataloader.py\", line 1449, in _shutdown_workers\n",
            "    if w.is_alive():\n",
            "  File \"/usr/local/lib/python3.9/dist-packages/torch/utils/data/dataloader.py\", line 1449, in _shutdown_workers\n",
            "      File \"/usr/lib/python3.9/multiprocessing/process.py\", line 160, in is_alive\n",
            "if w.is_alive():\n",
            "      File \"/usr/lib/python3.9/multiprocessing/process.py\", line 160, in is_alive\n",
            "    assert self._parent_pid == os.getpid(), 'can only test a child process'\n",
            "AssertionError: assert self._parent_pid == os.getpid(), 'can only test a child process'can only test a child process\n",
            "\n",
            "AssertionError: can only test a child process\n"
          ]
        },
        {
          "output_type": "stream",
          "name": "stdout",
          "text": [
            "TESTING:\n",
            "Accuracy of the network on the 10000 test images: 62.26 %\n",
            "Average loss on the 10000 test images: 1.102\n"
          ]
        },
        {
          "output_type": "stream",
          "name": "stderr",
          "text": [
            "Exception ignored in: <function _MultiProcessingDataLoaderIter.__del__ at 0x7fa5ae1ca040>Exception ignored in: \n",
            "<function _MultiProcessingDataLoaderIter.__del__ at 0x7fa5ae1ca040>Traceback (most recent call last):\n",
            "  File \"/usr/local/lib/python3.9/dist-packages/torch/utils/data/dataloader.py\", line 1466, in __del__\n",
            "\n",
            "Traceback (most recent call last):\n",
            "      File \"/usr/local/lib/python3.9/dist-packages/torch/utils/data/dataloader.py\", line 1466, in __del__\n",
            "self._shutdown_workers()\n",
            "      File \"/usr/local/lib/python3.9/dist-packages/torch/utils/data/dataloader.py\", line 1449, in _shutdown_workers\n",
            "self._shutdown_workers()    \n",
            "  File \"/usr/local/lib/python3.9/dist-packages/torch/utils/data/dataloader.py\", line 1449, in _shutdown_workers\n",
            "if w.is_alive():    if w.is_alive():\n",
            "  File \"/usr/lib/python3.9/multiprocessing/process.py\", line 160, in is_alive\n",
            "\n",
            "  File \"/usr/lib/python3.9/multiprocessing/process.py\", line 160, in is_alive\n",
            "        assert self._parent_pid == os.getpid(), 'can only test a child process'\n",
            "AssertionErrorassert self._parent_pid == os.getpid(), 'can only test a child process': \n",
            "can only test a child process\n",
            "AssertionError: can only test a child process\n"
          ]
        },
        {
          "output_type": "stream",
          "name": "stdout",
          "text": [
            "[5,   100] loss: 1.064 acc: 62.16 time: 10.09\n",
            "[5,   200] loss: 1.054 acc: 62.12 time: 8.57\n",
            "[5,   300] loss: 1.044 acc: 62.34 time: 9.83\n"
          ]
        },
        {
          "output_type": "stream",
          "name": "stderr",
          "text": [
            "Exception ignored in: <function _MultiProcessingDataLoaderIter.__del__ at 0x7fa5ae1ca040>\n",
            "Traceback (most recent call last):\n",
            "  File \"/usr/local/lib/python3.9/dist-packages/torch/utils/data/dataloader.py\", line 1466, in __del__\n",
            "    self._shutdown_workers()\n",
            "  File \"/usr/local/lib/python3.9/dist-packages/torch/utils/data/dataloader.py\", line 1449, in _shutdown_workers\n",
            "    if w.is_alive():\n",
            "  File \"/usr/lib/python3.9/multiprocessing/process.py\", line 160, in is_alive\n",
            "    assert self._parent_pid == os.getpid(), 'can only test a child process'\n",
            "AssertionError: can only test a child process\n",
            "Exception ignored in: <function _MultiProcessingDataLoaderIter.__del__ at 0x7fa5ae1ca040>\n",
            "Traceback (most recent call last):\n",
            "  File \"/usr/local/lib/python3.9/dist-packages/torch/utils/data/dataloader.py\", line 1466, in __del__\n",
            "    self._shutdown_workers()\n",
            "  File \"/usr/local/lib/python3.9/dist-packages/torch/utils/data/dataloader.py\", line 1449, in _shutdown_workers\n",
            "    if w.is_alive():\n",
            "  File \"/usr/lib/python3.9/multiprocessing/process.py\", line 160, in is_alive\n",
            "    assert self._parent_pid == os.getpid(), 'can only test a child process'\n",
            "AssertionError: can only test a child process\n"
          ]
        },
        {
          "output_type": "stream",
          "name": "stdout",
          "text": [
            "TESTING:\n",
            "Accuracy of the network on the 10000 test images: 63.61 %\n",
            "Average loss on the 10000 test images: 1.024\n"
          ]
        },
        {
          "output_type": "stream",
          "name": "stderr",
          "text": [
            "Exception ignored in: <function _MultiProcessingDataLoaderIter.__del__ at 0x7fa5ae1ca040>Exception ignored in: \n",
            "Traceback (most recent call last):\n",
            "<function _MultiProcessingDataLoaderIter.__del__ at 0x7fa5ae1ca040>  File \"/usr/local/lib/python3.9/dist-packages/torch/utils/data/dataloader.py\", line 1466, in __del__\n",
            "    \n",
            "self._shutdown_workers()Traceback (most recent call last):\n",
            "\n",
            "  File \"/usr/local/lib/python3.9/dist-packages/torch/utils/data/dataloader.py\", line 1449, in _shutdown_workers\n",
            "      File \"/usr/local/lib/python3.9/dist-packages/torch/utils/data/dataloader.py\", line 1466, in __del__\n",
            "if w.is_alive():\n",
            "    self._shutdown_workers()  File \"/usr/lib/python3.9/multiprocessing/process.py\", line 160, in is_alive\n",
            "\n",
            "      File \"/usr/local/lib/python3.9/dist-packages/torch/utils/data/dataloader.py\", line 1449, in _shutdown_workers\n",
            "assert self._parent_pid == os.getpid(), 'can only test a child process'\n",
            "    AssertionErrorif w.is_alive():: \n",
            "can only test a child process  File \"/usr/lib/python3.9/multiprocessing/process.py\", line 160, in is_alive\n",
            "\n",
            "    assert self._parent_pid == os.getpid(), 'can only test a child process'\n",
            "AssertionError: can only test a child process\n"
          ]
        },
        {
          "output_type": "stream",
          "name": "stdout",
          "text": [
            "[6,   100] loss: 1.031 acc: 62.71 time: 10.35\n",
            "[6,   200] loss: 1.028 acc: 63.45 time: 8.29\n",
            "[6,   300] loss: 1.019 acc: 64.00 time: 9.77\n"
          ]
        },
        {
          "output_type": "stream",
          "name": "stderr",
          "text": [
            "Exception ignored in: <function _MultiProcessingDataLoaderIter.__del__ at 0x7fa5ae1ca040>\n",
            "Exception ignored in: Traceback (most recent call last):\n",
            "<function _MultiProcessingDataLoaderIter.__del__ at 0x7fa5ae1ca040>  File \"/usr/local/lib/python3.9/dist-packages/torch/utils/data/dataloader.py\", line 1466, in __del__\n",
            "    self._shutdown_workers()\n",
            "\n",
            "Traceback (most recent call last):\n",
            "  File \"/usr/local/lib/python3.9/dist-packages/torch/utils/data/dataloader.py\", line 1449, in _shutdown_workers\n",
            "  File \"/usr/local/lib/python3.9/dist-packages/torch/utils/data/dataloader.py\", line 1466, in __del__\n",
            "        self._shutdown_workers()if w.is_alive():\n",
            "\n",
            "  File \"/usr/local/lib/python3.9/dist-packages/torch/utils/data/dataloader.py\", line 1449, in _shutdown_workers\n",
            "  File \"/usr/lib/python3.9/multiprocessing/process.py\", line 160, in is_alive\n",
            "        assert self._parent_pid == os.getpid(), 'can only test a child process'if w.is_alive():\n",
            "  File \"/usr/lib/python3.9/multiprocessing/process.py\", line 160, in is_alive\n",
            "    assert self._parent_pid == os.getpid(), 'can only test a child process'\n",
            "\n",
            "AssertionError: AssertionError: can only test a child processcan only test a child process\n",
            "\n"
          ]
        },
        {
          "output_type": "stream",
          "name": "stdout",
          "text": [
            "TESTING:\n",
            "Accuracy of the network on the 10000 test images: 62.69 %\n",
            "Average loss on the 10000 test images: 1.089\n"
          ]
        },
        {
          "output_type": "stream",
          "name": "stderr",
          "text": [
            "Exception ignored in: <function _MultiProcessingDataLoaderIter.__del__ at 0x7fa5ae1ca040>\n",
            "Traceback (most recent call last):\n",
            "  File \"/usr/local/lib/python3.9/dist-packages/torch/utils/data/dataloader.py\", line 1466, in __del__\n",
            "Exception ignored in: <function _MultiProcessingDataLoaderIter.__del__ at 0x7fa5ae1ca040>    \n",
            "self._shutdown_workers()Traceback (most recent call last):\n",
            "  File \"/usr/local/lib/python3.9/dist-packages/torch/utils/data/dataloader.py\", line 1466, in __del__\n",
            "    self._shutdown_workers()\n",
            "\n",
            "  File \"/usr/local/lib/python3.9/dist-packages/torch/utils/data/dataloader.py\", line 1449, in _shutdown_workers\n",
            "    if w.is_alive():\n",
            "  File \"/usr/lib/python3.9/multiprocessing/process.py\", line 160, in is_alive\n",
            "  File \"/usr/local/lib/python3.9/dist-packages/torch/utils/data/dataloader.py\", line 1449, in _shutdown_workers\n",
            "    assert self._parent_pid == os.getpid(), 'can only test a child process'    \n",
            "AssertionError: can only test a child process\n",
            "if w.is_alive():\n",
            "  File \"/usr/lib/python3.9/multiprocessing/process.py\", line 160, in is_alive\n",
            "    assert self._parent_pid == os.getpid(), 'can only test a child process'\n",
            "AssertionError: can only test a child process\n"
          ]
        },
        {
          "output_type": "stream",
          "name": "stdout",
          "text": [
            "[7,   100] loss: 1.013 acc: 63.21 time: 10.29\n",
            "[7,   200] loss: 1.019 acc: 63.79 time: 11.48\n",
            "[7,   300] loss: 1.001 acc: 64.33 time: 8.17\n",
            "TESTING:\n",
            "Accuracy of the network on the 10000 test images: 63.64 %\n",
            "Average loss on the 10000 test images: 1.042\n",
            "[8,   100] loss: 0.973 acc: 65.35 time: 9.92\n",
            "[8,   200] loss: 1.000 acc: 64.19 time: 9.94\n",
            "[8,   300] loss: 0.982 acc: 64.81 time: 8.28\n",
            "TESTING:\n",
            "Accuracy of the network on the 10000 test images: 64.79 %\n",
            "Average loss on the 10000 test images: 0.974\n",
            "[9,   100] loss: 0.974 acc: 65.20 time: 10.09\n",
            "[9,   200] loss: 0.986 acc: 64.81 time: 9.95\n",
            "[9,   300] loss: 0.974 acc: 65.34 time: 8.35\n",
            "TESTING:\n",
            "Accuracy of the network on the 10000 test images: 65.01 %\n",
            "Average loss on the 10000 test images: 0.980\n",
            "[10,   100] loss: 0.934 acc: 66.53 time: 9.44\n",
            "[10,   200] loss: 0.960 acc: 65.80 time: 9.80\n",
            "[10,   300] loss: 0.971 acc: 65.45 time: 9.21\n",
            "TESTING:\n",
            "Accuracy of the network on the 10000 test images: 64.77 %\n",
            "Average loss on the 10000 test images: 1.003\n",
            "[11,   100] loss: 0.914 acc: 67.52 time: 8.92\n",
            "[11,   200] loss: 0.886 acc: 68.73 time: 9.82\n",
            "[11,   300] loss: 0.894 acc: 68.05 time: 9.87\n",
            "TESTING:\n",
            "Accuracy of the network on the 10000 test images: 67.58 %\n",
            "Average loss on the 10000 test images: 0.902\n",
            "[12,   100] loss: 0.868 acc: 68.52 time: 8.59\n",
            "[12,   200] loss: 0.862 acc: 69.11 time: 9.83\n",
            "[12,   300] loss: 0.876 acc: 68.71 time: 9.96\n",
            "TESTING:\n",
            "Accuracy of the network on the 10000 test images: 67.95 %\n",
            "Average loss on the 10000 test images: 0.894\n",
            "[13,   100] loss: 0.869 acc: 69.23 time: 8.54\n",
            "[13,   200] loss: 0.871 acc: 68.66 time: 9.92\n",
            "[13,   300] loss: 0.876 acc: 68.67 time: 9.88\n",
            "TESTING:\n",
            "Accuracy of the network on the 10000 test images: 67.61 %\n",
            "Average loss on the 10000 test images: 0.895\n",
            "[14,   100] loss: 0.875 acc: 68.95 time: 11.66\n",
            "[14,   200] loss: 0.863 acc: 69.17 time: 8.39\n",
            "[14,   300] loss: 0.862 acc: 69.05 time: 10.18\n",
            "TESTING:\n",
            "Accuracy of the network on the 10000 test images: 68.01 %\n",
            "Average loss on the 10000 test images: 0.892\n",
            "[15,   100] loss: 0.859 acc: 68.95 time: 10.00\n",
            "[15,   200] loss: 0.867 acc: 69.04 time: 8.47\n",
            "[15,   300] loss: 0.850 acc: 69.57 time: 9.65\n",
            "TESTING:\n",
            "Accuracy of the network on the 10000 test images: 67.99 %\n",
            "Average loss on the 10000 test images: 0.896\n",
            "[16,   100] loss: 0.863 acc: 69.05 time: 10.18\n",
            "[16,   200] loss: 0.864 acc: 69.04 time: 8.82\n",
            "[16,   300] loss: 0.849 acc: 69.52 time: 9.49\n",
            "TESTING:\n",
            "Accuracy of the network on the 10000 test images: 68.28 %\n",
            "Average loss on the 10000 test images: 0.888\n",
            "[17,   100] loss: 0.845 acc: 69.91 time: 10.09\n",
            "[17,   200] loss: 0.851 acc: 69.64 time: 9.61\n",
            "[17,   300] loss: 0.852 acc: 69.59 time: 10.08\n",
            "TESTING:\n",
            "Accuracy of the network on the 10000 test images: 68.07 %\n",
            "Average loss on the 10000 test images: 0.895\n",
            "[18,   100] loss: 0.837 acc: 70.05 time: 9.89\n",
            "[18,   200] loss: 0.849 acc: 69.34 time: 10.01\n",
            "[18,   300] loss: 0.848 acc: 69.45 time: 8.88\n",
            "TESTING:\n",
            "Accuracy of the network on the 10000 test images: 68.03 %\n",
            "Average loss on the 10000 test images: 0.896\n",
            "[19,   100] loss: 0.858 acc: 69.06 time: 9.19\n",
            "[19,   200] loss: 0.837 acc: 70.01 time: 9.77\n",
            "[19,   300] loss: 0.841 acc: 69.95 time: 9.34\n",
            "TESTING:\n",
            "Accuracy of the network on the 10000 test images: 68.46 %\n",
            "Average loss on the 10000 test images: 0.886\n",
            "[20,   100] loss: 0.830 acc: 70.50 time: 8.50\n",
            "[20,   200] loss: 0.839 acc: 69.78 time: 10.09\n",
            "[20,   300] loss: 0.831 acc: 69.85 time: 10.10\n",
            "TESTING:\n",
            "Accuracy of the network on the 10000 test images: 68.19 %\n",
            "Average loss on the 10000 test images: 0.886\n",
            "Finished Training\n"
          ]
        }
      ],
      "source": [
        "train(net, criterion, optimizer, num_epochs=20, decay_epochs=10, init_lr=0.01, task='classification')\n"
      ]
    },
    {
      "cell_type": "markdown",
      "metadata": {
        "id": "ghPNhcJBrcNj"
      },
      "source": [
        "## Fine-tuning on the randomly initialized model\n",
        "In this section, we will randomly initialize a ResNet18 model and fine-tune on the classification task. We will freeze all previous layers except for the 'layer4' block and 'fc' layer."
      ]
    },
    {
      "cell_type": "code",
      "execution_count": null,
      "metadata": {
        "id": "2RfXAh9vxXRB"
      },
      "outputs": [],
      "source": [
        "import torch.nn as nn\n",
        "import torch.nn.functional as F\n",
        "\n",
        "from torchvision.models import resnet18\n",
        "\n",
        "# TODO: Randomly initialize a ResNet18 model\n",
        "#\n",
        "#\n",
        "#\n",
        "net2 = resnet18(weights=None)\n",
        "net2 = net2.to(device)"
      ]
    },
    {
      "cell_type": "code",
      "execution_count": null,
      "metadata": {
        "id": "fpx-SYAizt4p"
      },
      "outputs": [],
      "source": [
        "# TODO: Freeze all previous layers; only keep the 'layer4' block and 'fc' layer trainable\n",
        "# To do this, you should set requires_grad=False for the frozen layers.\n",
        "#\n",
        "#\n",
        "#\n",
        "for name, para in net2.named_parameters():\n",
        "  para.requires_grad = False\n",
        "  if \"layer4\" in name or \"fc\" in name:\n",
        "    para.requires_grad = True"
      ]
    },
    {
      "cell_type": "code",
      "execution_count": null,
      "metadata": {
        "id": "BUFWizbHxgm2",
        "colab": {
          "base_uri": "https://localhost:8080/"
        },
        "outputId": "18338904-80fb-48ac-b758-b1ddee723d03"
      },
      "outputs": [
        {
          "output_type": "stream",
          "name": "stdout",
          "text": [
            "Params to learn:\n",
            "\t layer4.0.conv1.weight\n",
            "\t layer4.0.bn1.weight\n",
            "\t layer4.0.bn1.bias\n",
            "\t layer4.0.conv2.weight\n",
            "\t layer4.0.bn2.weight\n",
            "\t layer4.0.bn2.bias\n",
            "\t layer4.0.downsample.0.weight\n",
            "\t layer4.0.downsample.1.weight\n",
            "\t layer4.0.downsample.1.bias\n",
            "\t layer4.1.conv1.weight\n",
            "\t layer4.1.bn1.weight\n",
            "\t layer4.1.bn1.bias\n",
            "\t layer4.1.conv2.weight\n",
            "\t layer4.1.bn2.weight\n",
            "\t layer4.1.bn2.bias\n",
            "\t fc.weight\n",
            "\t fc.bias\n"
          ]
        }
      ],
      "source": [
        "# Print all the trainable parameters\n",
        "params_to_update = net2.parameters()\n",
        "print(\"Params to learn:\")\n",
        "params_to_update = []\n",
        "for name,param in net2.named_parameters():\n",
        "    if param.requires_grad == True:\n",
        "        params_to_update.append(param)\n",
        "        print(\"\\t\",name)"
      ]
    },
    {
      "cell_type": "code",
      "execution_count": null,
      "metadata": {
        "id": "BxFrGj091AN_"
      },
      "outputs": [],
      "source": [
        "import torch.optim as optim\n",
        "# TODO: Define criterion and optimizer\n",
        "# Note that your optimizer only needs to update the parameters that are trainable.\n",
        "criterion = nn.CrossEntropyLoss()\n",
        "optimizer = optim.SGD(net2.parameters(), lr=0.001, momentum=0.9)"
      ]
    },
    {
      "cell_type": "code",
      "execution_count": null,
      "metadata": {
        "id": "GzRVy0MZxpoL",
        "colab": {
          "base_uri": "https://localhost:8080/"
        },
        "outputId": "7e2752d4-f68f-4845-c732-2233e7063f87"
      },
      "outputs": [
        {
          "output_type": "stream",
          "name": "stdout",
          "text": [
            "[1,   100] loss: 2.319 acc: 24.15 time: 5.46\n",
            "[1,   200] loss: 1.986 acc: 29.16 time: 5.23\n",
            "[1,   300] loss: 1.936 acc: 30.54 time: 5.27\n",
            "TESTING:\n",
            "Accuracy of the network on the 10000 test images: 36.09 %\n",
            "Average loss on the 10000 test images: 1.790\n",
            "[2,   100] loss: 1.873 acc: 32.43 time: 5.27\n",
            "[2,   200] loss: 1.874 acc: 32.20 time: 5.08\n",
            "[2,   300] loss: 1.847 acc: 33.96 time: 5.22\n",
            "TESTING:\n",
            "Accuracy of the network on the 10000 test images: 37.80 %\n",
            "Average loss on the 10000 test images: 1.732\n",
            "[3,   100] loss: 1.820 acc: 33.97 time: 5.41\n",
            "[3,   200] loss: 1.815 acc: 34.59 time: 5.31\n",
            "[3,   300] loss: 1.808 acc: 34.38 time: 5.40\n",
            "TESTING:\n",
            "Accuracy of the network on the 10000 test images: 38.63 %\n",
            "Average loss on the 10000 test images: 1.739\n",
            "[4,   100] loss: 1.791 acc: 35.42 time: 5.41\n",
            "[4,   200] loss: 1.798 acc: 35.48 time: 5.35\n",
            "[4,   300] loss: 1.746 acc: 36.79 time: 5.34\n",
            "TESTING:\n",
            "Accuracy of the network on the 10000 test images: 39.32 %\n",
            "Average loss on the 10000 test images: 1.689\n",
            "[5,   100] loss: 1.770 acc: 36.28 time: 5.41\n",
            "[5,   200] loss: 1.762 acc: 37.27 time: 5.19\n",
            "[5,   300] loss: 1.759 acc: 36.45 time: 5.16\n",
            "TESTING:\n",
            "Accuracy of the network on the 10000 test images: 39.41 %\n",
            "Average loss on the 10000 test images: 1.683\n",
            "[6,   100] loss: 1.760 acc: 37.05 time: 5.63\n",
            "[6,   200] loss: 1.728 acc: 37.35 time: 5.41\n",
            "[6,   300] loss: 1.734 acc: 37.54 time: 5.31\n",
            "TESTING:\n",
            "Accuracy of the network on the 10000 test images: 41.09 %\n",
            "Average loss on the 10000 test images: 1.668\n",
            "[7,   100] loss: 1.717 acc: 38.14 time: 5.44\n",
            "[7,   200] loss: 1.727 acc: 38.19 time: 5.26\n",
            "[7,   300] loss: 1.718 acc: 38.00 time: 5.10\n",
            "TESTING:\n",
            "Accuracy of the network on the 10000 test images: 41.30 %\n",
            "Average loss on the 10000 test images: 1.647\n",
            "[8,   100] loss: 1.713 acc: 38.45 time: 5.36\n",
            "[8,   200] loss: 1.714 acc: 38.30 time: 5.27\n",
            "[8,   300] loss: 1.697 acc: 39.21 time: 5.23\n",
            "TESTING:\n",
            "Accuracy of the network on the 10000 test images: 41.45 %\n",
            "Average loss on the 10000 test images: 1.631\n",
            "[9,   100] loss: 1.704 acc: 38.80 time: 5.20\n",
            "[9,   200] loss: 1.678 acc: 39.66 time: 5.10\n",
            "[9,   300] loss: 1.695 acc: 39.34 time: 5.19\n",
            "TESTING:\n",
            "Accuracy of the network on the 10000 test images: 43.19 %\n",
            "Average loss on the 10000 test images: 1.603\n",
            "[10,   100] loss: 1.679 acc: 39.66 time: 5.25\n",
            "[10,   200] loss: 1.660 acc: 40.85 time: 5.27\n",
            "[10,   300] loss: 1.687 acc: 39.52 time: 5.15\n",
            "TESTING:\n",
            "Accuracy of the network on the 10000 test images: 42.60 %\n",
            "Average loss on the 10000 test images: 1.603\n",
            "[11,   100] loss: 1.627 acc: 40.99 time: 5.35\n",
            "[11,   200] loss: 1.627 acc: 41.40 time: 5.27\n",
            "[11,   300] loss: 1.614 acc: 42.09 time: 5.23\n",
            "TESTING:\n",
            "Accuracy of the network on the 10000 test images: 44.50 %\n",
            "Average loss on the 10000 test images: 1.560\n",
            "[12,   100] loss: 1.609 acc: 42.23 time: 5.36\n",
            "[12,   200] loss: 1.602 acc: 43.10 time: 5.12\n",
            "[12,   300] loss: 1.606 acc: 42.69 time: 5.11\n",
            "TESTING:\n",
            "Accuracy of the network on the 10000 test images: 44.86 %\n",
            "Average loss on the 10000 test images: 1.552\n",
            "[13,   100] loss: 1.604 acc: 42.58 time: 5.37\n",
            "[13,   200] loss: 1.588 acc: 42.78 time: 5.12\n",
            "[13,   300] loss: 1.599 acc: 42.31 time: 5.10\n",
            "TESTING:\n",
            "Accuracy of the network on the 10000 test images: 44.77 %\n",
            "Average loss on the 10000 test images: 1.547\n",
            "[14,   100] loss: 1.598 acc: 42.91 time: 5.25\n",
            "[14,   200] loss: 1.600 acc: 42.99 time: 5.25\n",
            "[14,   300] loss: 1.597 acc: 42.66 time: 5.09\n",
            "TESTING:\n",
            "Accuracy of the network on the 10000 test images: 45.04 %\n",
            "Average loss on the 10000 test images: 1.548\n",
            "[15,   100] loss: 1.596 acc: 42.62 time: 5.30\n",
            "[15,   200] loss: 1.582 acc: 43.49 time: 5.14\n",
            "[15,   300] loss: 1.576 acc: 43.46 time: 5.12\n",
            "TESTING:\n",
            "Accuracy of the network on the 10000 test images: 45.36 %\n",
            "Average loss on the 10000 test images: 1.538\n",
            "[16,   100] loss: 1.586 acc: 42.91 time: 5.21\n",
            "[16,   200] loss: 1.580 acc: 43.35 time: 5.10\n",
            "[16,   300] loss: 1.590 acc: 42.89 time: 5.15\n",
            "TESTING:\n",
            "Accuracy of the network on the 10000 test images: 44.98 %\n",
            "Average loss on the 10000 test images: 1.537\n",
            "[17,   100] loss: 1.581 acc: 43.18 time: 5.32\n",
            "[17,   200] loss: 1.573 acc: 43.88 time: 5.11\n",
            "[17,   300] loss: 1.585 acc: 43.49 time: 5.21\n",
            "TESTING:\n",
            "Accuracy of the network on the 10000 test images: 45.13 %\n",
            "Average loss on the 10000 test images: 1.540\n",
            "[18,   100] loss: 1.589 acc: 43.25 time: 5.41\n",
            "[18,   200] loss: 1.575 acc: 43.59 time: 5.11\n",
            "[18,   300] loss: 1.579 acc: 43.23 time: 5.18\n",
            "TESTING:\n",
            "Accuracy of the network on the 10000 test images: 44.91 %\n",
            "Average loss on the 10000 test images: 1.532\n",
            "[19,   100] loss: 1.572 acc: 44.07 time: 5.26\n",
            "[19,   200] loss: 1.578 acc: 43.03 time: 5.12\n",
            "[19,   300] loss: 1.567 acc: 43.88 time: 5.18\n",
            "TESTING:\n",
            "Accuracy of the network on the 10000 test images: 45.25 %\n",
            "Average loss on the 10000 test images: 1.531\n",
            "[20,   100] loss: 1.565 acc: 43.87 time: 5.34\n",
            "[20,   200] loss: 1.568 acc: 43.70 time: 5.12\n",
            "[20,   300] loss: 1.572 acc: 43.85 time: 5.40\n",
            "TESTING:\n",
            "Accuracy of the network on the 10000 test images: 45.45 %\n",
            "Average loss on the 10000 test images: 1.529\n",
            "Finished Training\n"
          ]
        }
      ],
      "source": [
        "train(net2, criterion, optimizer, num_epochs=20, decay_epochs=10, init_lr=0.01, task='classification')"
      ]
    },
    {
      "cell_type": "markdown",
      "metadata": {
        "id": "WcN54tcNN15U"
      },
      "source": [
        "##Supervised training on the pre-trained model\n",
        "In this section, we will load the pre-trained ResNet18 model and re-train the whole model on the classification task."
      ]
    },
    {
      "cell_type": "code",
      "execution_count": null,
      "metadata": {
        "id": "9xR9h_S1N6Xi"
      },
      "outputs": [],
      "source": [
        "import torch.nn as nn\n",
        "import torch.nn.functional as F\n",
        "\n",
        "from torchvision.models import resnet18\n",
        "\n",
        "# TODO: Load the pre-trained ResNet18 model\n",
        "#\n",
        "#\n",
        "#\n",
        "net3 = resnet18(num_classes = 4)\n",
        "net3.load_state_dict(torch.load('res_net1.pth'))\n",
        "net3 = net3.to(device)\n",
        "net3.fc = nn.Linear(512, 10)\n",
        "net3 = net3.to(device)"
      ]
    },
    {
      "cell_type": "code",
      "execution_count": null,
      "metadata": {
        "id": "gGozc2cM0ADw"
      },
      "outputs": [],
      "source": [
        "import torch.optim as optim\n",
        "\n",
        "# TODO: Define criterion and optimizer\n",
        "criterion = nn.CrossEntropyLoss()\n",
        "optimizer = optim.SGD(net3.parameters(), lr=0.001, momentum=0.9)"
      ]
    },
    {
      "cell_type": "code",
      "execution_count": null,
      "metadata": {
        "id": "JGWW7gzCz_Bu",
        "colab": {
          "base_uri": "https://localhost:8080/"
        },
        "outputId": "4d2853eb-566c-4a97-eab4-6901c7b1d946"
      },
      "outputs": [
        {
          "output_type": "stream",
          "name": "stdout",
          "text": [
            "[1,   100] loss: 1.509 acc: 45.37 time: 13.00\n",
            "[1,   200] loss: 1.185 acc: 57.27 time: 5.04\n",
            "[1,   300] loss: 1.092 acc: 61.03 time: 5.05\n",
            "TESTING:\n",
            "Accuracy of the network on the 10000 test images: 65.35 %\n",
            "Average loss on the 10000 test images: 0.991\n",
            "[2,   100] loss: 1.002 acc: 64.85 time: 5.26\n",
            "[2,   200] loss: 0.979 acc: 65.18 time: 5.07\n",
            "[2,   300] loss: 0.934 acc: 66.60 time: 5.09\n",
            "TESTING:\n",
            "Accuracy of the network on the 10000 test images: 69.23 %\n",
            "Average loss on the 10000 test images: 0.873\n",
            "[3,   100] loss: 0.875 acc: 68.97 time: 5.50\n",
            "[3,   200] loss: 0.849 acc: 70.25 time: 5.05\n",
            "[3,   300] loss: 0.849 acc: 70.46 time: 5.15\n",
            "TESTING:\n",
            "Accuracy of the network on the 10000 test images: 72.08 %\n",
            "Average loss on the 10000 test images: 0.790\n",
            "[4,   100] loss: 0.805 acc: 71.30 time: 5.28\n",
            "[4,   200] loss: 0.793 acc: 72.09 time: 5.13\n",
            "[4,   300] loss: 0.784 acc: 72.13 time: 5.16\n",
            "TESTING:\n",
            "Accuracy of the network on the 10000 test images: 74.18 %\n",
            "Average loss on the 10000 test images: 0.739\n",
            "[5,   100] loss: 0.746 acc: 73.44 time: 5.25\n",
            "[5,   200] loss: 0.770 acc: 72.53 time: 5.09\n",
            "[5,   300] loss: 0.744 acc: 73.73 time: 5.17\n",
            "TESTING:\n",
            "Accuracy of the network on the 10000 test images: 75.50 %\n",
            "Average loss on the 10000 test images: 0.702\n",
            "[6,   100] loss: 0.711 acc: 74.59 time: 5.39\n",
            "[6,   200] loss: 0.716 acc: 74.76 time: 5.10\n",
            "[6,   300] loss: 0.699 acc: 75.86 time: 5.15\n",
            "TESTING:\n",
            "Accuracy of the network on the 10000 test images: 75.44 %\n",
            "Average loss on the 10000 test images: 0.693\n",
            "[7,   100] loss: 0.673 acc: 76.38 time: 5.22\n",
            "[7,   200] loss: 0.680 acc: 76.17 time: 5.29\n",
            "[7,   300] loss: 0.681 acc: 76.23 time: 5.06\n",
            "TESTING:\n",
            "Accuracy of the network on the 10000 test images: 76.16 %\n",
            "Average loss on the 10000 test images: 0.684\n",
            "[8,   100] loss: 0.633 acc: 77.52 time: 5.29\n",
            "[8,   200] loss: 0.641 acc: 77.82 time: 5.35\n",
            "[8,   300] loss: 0.646 acc: 76.91 time: 5.09\n",
            "TESTING:\n",
            "Accuracy of the network on the 10000 test images: 75.29 %\n",
            "Average loss on the 10000 test images: 0.717\n",
            "[9,   100] loss: 0.628 acc: 77.73 time: 5.29\n",
            "[9,   200] loss: 0.627 acc: 78.12 time: 5.20\n",
            "[9,   300] loss: 0.634 acc: 77.68 time: 5.16\n",
            "TESTING:\n",
            "Accuracy of the network on the 10000 test images: 77.84 %\n",
            "Average loss on the 10000 test images: 0.638\n",
            "[10,   100] loss: 0.595 acc: 79.19 time: 5.24\n",
            "[10,   200] loss: 0.599 acc: 78.75 time: 5.15\n",
            "[10,   300] loss: 0.594 acc: 79.17 time: 5.25\n",
            "TESTING:\n",
            "Accuracy of the network on the 10000 test images: 78.33 %\n",
            "Average loss on the 10000 test images: 0.615\n",
            "[11,   100] loss: 0.546 acc: 80.94 time: 5.31\n",
            "[11,   200] loss: 0.507 acc: 82.50 time: 5.22\n",
            "[11,   300] loss: 0.509 acc: 81.99 time: 5.28\n",
            "TESTING:\n",
            "Accuracy of the network on the 10000 test images: 80.29 %\n",
            "Average loss on the 10000 test images: 0.570\n",
            "[12,   100] loss: 0.490 acc: 82.55 time: 5.52\n",
            "[12,   200] loss: 0.494 acc: 82.63 time: 5.11\n",
            "[12,   300] loss: 0.472 acc: 83.45 time: 5.09\n",
            "TESTING:\n",
            "Accuracy of the network on the 10000 test images: 80.56 %\n",
            "Average loss on the 10000 test images: 0.560\n",
            "[13,   100] loss: 0.483 acc: 82.67 time: 5.45\n",
            "[13,   200] loss: 0.488 acc: 83.15 time: 5.09\n",
            "[13,   300] loss: 0.473 acc: 83.12 time: 5.13\n",
            "TESTING:\n",
            "Accuracy of the network on the 10000 test images: 80.46 %\n",
            "Average loss on the 10000 test images: 0.558\n",
            "[14,   100] loss: 0.460 acc: 83.97 time: 5.36\n",
            "[14,   200] loss: 0.477 acc: 82.96 time: 5.11\n",
            "[14,   300] loss: 0.465 acc: 83.77 time: 5.18\n",
            "TESTING:\n",
            "Accuracy of the network on the 10000 test images: 80.53 %\n",
            "Average loss on the 10000 test images: 0.557\n",
            "[15,   100] loss: 0.463 acc: 83.77 time: 5.32\n",
            "[15,   200] loss: 0.470 acc: 83.49 time: 5.11\n",
            "[15,   300] loss: 0.473 acc: 83.24 time: 5.14\n",
            "TESTING:\n",
            "Accuracy of the network on the 10000 test images: 80.71 %\n",
            "Average loss on the 10000 test images: 0.548\n",
            "[16,   100] loss: 0.476 acc: 83.44 time: 5.49\n",
            "[16,   200] loss: 0.464 acc: 83.97 time: 5.10\n",
            "[16,   300] loss: 0.462 acc: 83.87 time: 5.15\n",
            "TESTING:\n",
            "Accuracy of the network on the 10000 test images: 80.53 %\n",
            "Average loss on the 10000 test images: 0.549\n",
            "[17,   100] loss: 0.457 acc: 83.90 time: 5.34\n",
            "[17,   200] loss: 0.456 acc: 83.88 time: 5.08\n",
            "[17,   300] loss: 0.466 acc: 83.75 time: 5.13\n",
            "TESTING:\n",
            "Accuracy of the network on the 10000 test images: 80.80 %\n",
            "Average loss on the 10000 test images: 0.547\n",
            "[18,   100] loss: 0.460 acc: 83.81 time: 5.55\n",
            "[18,   200] loss: 0.459 acc: 83.98 time: 5.24\n",
            "[18,   300] loss: 0.439 acc: 84.89 time: 5.18\n",
            "TESTING:\n",
            "Accuracy of the network on the 10000 test images: 80.72 %\n",
            "Average loss on the 10000 test images: 0.552\n",
            "[19,   100] loss: 0.441 acc: 84.45 time: 5.30\n",
            "[19,   200] loss: 0.445 acc: 84.02 time: 5.04\n",
            "[19,   300] loss: 0.446 acc: 84.23 time: 5.15\n",
            "TESTING:\n",
            "Accuracy of the network on the 10000 test images: 81.00 %\n",
            "Average loss on the 10000 test images: 0.547\n",
            "[20,   100] loss: 0.422 acc: 84.76 time: 5.34\n",
            "[20,   200] loss: 0.454 acc: 84.34 time: 5.13\n",
            "[20,   300] loss: 0.440 acc: 84.63 time: 5.10\n",
            "TESTING:\n",
            "Accuracy of the network on the 10000 test images: 81.09 %\n",
            "Average loss on the 10000 test images: 0.547\n",
            "Finished Training\n"
          ]
        }
      ],
      "source": [
        "train(net3, criterion, optimizer, num_epochs=20, decay_epochs=10, init_lr=0.01, task='classification')"
      ]
    },
    {
      "cell_type": "markdown",
      "metadata": {
        "id": "xjVTp9jhefTi"
      },
      "source": [
        "##Supervised training on the randomly initialized model\n",
        "In this section, we will randomly initialize a ResNet18 model and re-train the whole model on the classification task."
      ]
    },
    {
      "cell_type": "code",
      "execution_count": null,
      "metadata": {
        "id": "uEjy8TBieeLK"
      },
      "outputs": [],
      "source": [
        "import torch.nn as nn\n",
        "import torch.nn.functional as F\n",
        "\n",
        "from torchvision.models import resnet18\n",
        "\n",
        "# TODO: Randomly initialize a ResNet18 model\n",
        "#\n",
        "#\n",
        "#\n",
        "net4 = resnet18(weights=None)\n",
        "net4 = net4.to(device)"
      ]
    },
    {
      "cell_type": "code",
      "execution_count": null,
      "metadata": {
        "id": "jEY90pK_0ZAm"
      },
      "outputs": [],
      "source": [
        "import torch.optim as optim\n",
        "# TODO: Define criterion and optimizer\n",
        "criterion = nn.CrossEntropyLoss()\n",
        "optimizer = optim.SGD(net4.parameters(), lr=0.001, momentum=0.9)"
      ]
    },
    {
      "cell_type": "code",
      "execution_count": null,
      "metadata": {
        "id": "lMDwelhY0auO",
        "colab": {
          "base_uri": "https://localhost:8080/"
        },
        "outputId": "98a007ad-948d-4be4-ee90-05682305056c"
      },
      "outputs": [
        {
          "output_type": "stream",
          "name": "stdout",
          "text": [
            "[1,   100] loss: 2.216 acc: 27.08 time: 5.27\n",
            "[1,   200] loss: 1.675 acc: 38.63 time: 5.07\n",
            "[1,   300] loss: 1.555 acc: 43.10 time: 5.06\n",
            "TESTING:\n",
            "Accuracy of the network on the 10000 test images: 50.98 %\n",
            "Average loss on the 10000 test images: 1.347\n",
            "[2,   100] loss: 1.400 acc: 49.37 time: 5.21\n",
            "[2,   200] loss: 1.385 acc: 49.88 time: 5.48\n",
            "[2,   300] loss: 1.335 acc: 51.55 time: 5.09\n",
            "TESTING:\n",
            "Accuracy of the network on the 10000 test images: 55.28 %\n",
            "Average loss on the 10000 test images: 1.251\n",
            "[3,   100] loss: 1.260 acc: 55.61 time: 5.38\n",
            "[3,   200] loss: 1.200 acc: 57.02 time: 5.15\n",
            "[3,   300] loss: 1.173 acc: 58.16 time: 5.15\n",
            "TESTING:\n",
            "Accuracy of the network on the 10000 test images: 61.98 %\n",
            "Average loss on the 10000 test images: 1.083\n",
            "[4,   100] loss: 1.079 acc: 61.37 time: 5.36\n",
            "[4,   200] loss: 1.088 acc: 61.61 time: 5.15\n",
            "[4,   300] loss: 1.050 acc: 63.26 time: 5.08\n",
            "TESTING:\n",
            "Accuracy of the network on the 10000 test images: 64.68 %\n",
            "Average loss on the 10000 test images: 1.035\n",
            "[5,   100] loss: 0.979 acc: 65.38 time: 5.39\n",
            "[5,   200] loss: 0.968 acc: 66.02 time: 5.13\n",
            "[5,   300] loss: 0.982 acc: 65.64 time: 5.12\n",
            "TESTING:\n",
            "Accuracy of the network on the 10000 test images: 66.31 %\n",
            "Average loss on the 10000 test images: 0.939\n",
            "[6,   100] loss: 0.939 acc: 67.18 time: 5.24\n",
            "[6,   200] loss: 0.929 acc: 67.10 time: 5.17\n",
            "[6,   300] loss: 0.907 acc: 67.55 time: 5.09\n",
            "TESTING:\n",
            "Accuracy of the network on the 10000 test images: 68.76 %\n",
            "Average loss on the 10000 test images: 0.903\n",
            "[7,   100] loss: 0.865 acc: 69.55 time: 5.33\n",
            "[7,   200] loss: 0.862 acc: 69.20 time: 5.19\n",
            "[7,   300] loss: 0.869 acc: 69.48 time: 5.15\n",
            "TESTING:\n",
            "Accuracy of the network on the 10000 test images: 68.28 %\n",
            "Average loss on the 10000 test images: 0.899\n",
            "[8,   100] loss: 0.811 acc: 71.52 time: 5.26\n",
            "[8,   200] loss: 0.819 acc: 71.40 time: 5.10\n",
            "[8,   300] loss: 0.822 acc: 70.86 time: 5.12\n",
            "TESTING:\n",
            "Accuracy of the network on the 10000 test images: 72.78 %\n",
            "Average loss on the 10000 test images: 0.790\n",
            "[9,   100] loss: 0.785 acc: 72.38 time: 5.40\n",
            "[9,   200] loss: 0.803 acc: 71.89 time: 5.13\n",
            "[9,   300] loss: 0.763 acc: 73.02 time: 5.12\n",
            "TESTING:\n",
            "Accuracy of the network on the 10000 test images: 72.86 %\n",
            "Average loss on the 10000 test images: 0.790\n",
            "[10,   100] loss: 0.728 acc: 74.44 time: 5.42\n",
            "[10,   200] loss: 0.737 acc: 74.41 time: 5.05\n",
            "[10,   300] loss: 0.741 acc: 74.19 time: 5.09\n",
            "TESTING:\n",
            "Accuracy of the network on the 10000 test images: 73.92 %\n",
            "Average loss on the 10000 test images: 0.744\n",
            "[11,   100] loss: 0.659 acc: 76.29 time: 5.31\n",
            "[11,   200] loss: 0.626 acc: 78.04 time: 5.05\n",
            "[11,   300] loss: 0.613 acc: 78.12 time: 5.18\n",
            "TESTING:\n",
            "Accuracy of the network on the 10000 test images: 77.40 %\n",
            "Average loss on the 10000 test images: 0.651\n",
            "[12,   100] loss: 0.614 acc: 78.45 time: 5.37\n",
            "[12,   200] loss: 0.618 acc: 78.02 time: 5.16\n",
            "[12,   300] loss: 0.619 acc: 78.01 time: 5.14\n",
            "TESTING:\n",
            "Accuracy of the network on the 10000 test images: 77.71 %\n",
            "Average loss on the 10000 test images: 0.642\n",
            "[13,   100] loss: 0.607 acc: 78.78 time: 5.33\n",
            "[13,   200] loss: 0.603 acc: 78.78 time: 5.20\n",
            "[13,   300] loss: 0.599 acc: 78.89 time: 5.20\n",
            "TESTING:\n",
            "Accuracy of the network on the 10000 test images: 77.94 %\n",
            "Average loss on the 10000 test images: 0.639\n",
            "[14,   100] loss: 0.602 acc: 78.98 time: 5.36\n",
            "[14,   200] loss: 0.591 acc: 79.46 time: 5.06\n",
            "[14,   300] loss: 0.586 acc: 79.27 time: 5.05\n",
            "TESTING:\n",
            "Accuracy of the network on the 10000 test images: 78.09 %\n",
            "Average loss on the 10000 test images: 0.639\n",
            "[15,   100] loss: 0.581 acc: 79.67 time: 5.33\n",
            "[15,   200] loss: 0.580 acc: 79.81 time: 5.21\n",
            "[15,   300] loss: 0.578 acc: 79.67 time: 5.09\n",
            "TESTING:\n",
            "Accuracy of the network on the 10000 test images: 78.17 %\n",
            "Average loss on the 10000 test images: 0.635\n",
            "[16,   100] loss: 0.580 acc: 79.59 time: 5.26\n",
            "[16,   200] loss: 0.580 acc: 79.43 time: 5.15\n",
            "[16,   300] loss: 0.574 acc: 79.62 time: 5.17\n",
            "TESTING:\n",
            "Accuracy of the network on the 10000 test images: 78.30 %\n",
            "Average loss on the 10000 test images: 0.640\n",
            "[17,   100] loss: 0.567 acc: 80.16 time: 5.26\n",
            "[17,   200] loss: 0.563 acc: 80.18 time: 5.18\n",
            "[17,   300] loss: 0.565 acc: 80.22 time: 5.18\n",
            "TESTING:\n",
            "Accuracy of the network on the 10000 test images: 78.08 %\n",
            "Average loss on the 10000 test images: 0.626\n",
            "[18,   100] loss: 0.550 acc: 80.87 time: 5.30\n",
            "[18,   200] loss: 0.584 acc: 79.19 time: 5.24\n",
            "[18,   300] loss: 0.550 acc: 80.88 time: 5.21\n",
            "TESTING:\n",
            "Accuracy of the network on the 10000 test images: 78.33 %\n",
            "Average loss on the 10000 test images: 0.628\n",
            "[19,   100] loss: 0.557 acc: 80.23 time: 5.60\n",
            "[19,   200] loss: 0.554 acc: 80.20 time: 5.31\n",
            "[19,   300] loss: 0.563 acc: 80.66 time: 5.18\n",
            "TESTING:\n",
            "Accuracy of the network on the 10000 test images: 78.43 %\n",
            "Average loss on the 10000 test images: 0.626\n",
            "[20,   100] loss: 0.538 acc: 80.79 time: 5.72\n",
            "[20,   200] loss: 0.565 acc: 80.06 time: 5.23\n",
            "[20,   300] loss: 0.551 acc: 80.46 time: 5.13\n",
            "TESTING:\n",
            "Accuracy of the network on the 10000 test images: 78.74 %\n",
            "Average loss on the 10000 test images: 0.623\n",
            "Finished Training\n"
          ]
        }
      ],
      "source": [
        "train(net4, criterion, optimizer, num_epochs=20, decay_epochs=10, init_lr=0.01, task='classification')"
      ]
    }
  ],
  "metadata": {
    "accelerator": "GPU",
    "colab": {
      "machine_shape": "hm",
      "provenance": []
    },
    "gpuClass": "premium",
    "kernelspec": {
      "display_name": "Python 3",
      "name": "python3"
    },
    "language_info": {
      "name": "python"
    }
  },
  "nbformat": 4,
  "nbformat_minor": 0
}